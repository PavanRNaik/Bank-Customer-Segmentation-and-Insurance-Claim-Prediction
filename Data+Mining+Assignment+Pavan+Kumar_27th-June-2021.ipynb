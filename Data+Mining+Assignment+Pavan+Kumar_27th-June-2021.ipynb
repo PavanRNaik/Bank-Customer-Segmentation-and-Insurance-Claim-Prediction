{
 "cells": [
  {
   "cell_type": "code",
   "execution_count": 1,
   "metadata": {},
   "outputs": [],
   "source": [
    "import numpy as np\n",
    "import pandas as pd\n",
    "import matplotlib.pyplot as plt\n",
    "import sweetviz as sv\n",
    "import seaborn as sns\n",
    "from scipy.stats import zscore\n",
    "from scipy.cluster.hierarchy import dendrogram, linkage\n",
    "from scipy.cluster.hierarchy import fcluster\n",
    "from sklearn.metrics import silhouette_samples, silhouette_score\n",
    "from sklearn.cluster import KMeans \n",
    "from sklearn.tree import DecisionTreeClassifier\n",
    "from sklearn.metrics import classification_report ,confusion_matrix\n",
    "\n",
    "from sklearn.ensemble import RandomForestClassifier\n",
    "from sklearn.neural_network import MLPClassifier"
   ]
  },
  {
   "cell_type": "markdown",
   "metadata": {},
   "source": [
    "### Problem 1: Clustering\n",
    "\n",
    "#### A leading bank wants to develop a customer segmentation to give promotional offers to its customers. They collected a sample that summarizes the activities of users during the past few months. You are given the task to identify the segments based on credit card usage."
   ]
  },
  {
   "cell_type": "markdown",
   "metadata": {},
   "source": [
    "#### 1.1 Read the data, do the necessary initial steps, and exploratory data analysis (Univariate, Bi-variate, and multivariate analysis)."
   ]
  },
  {
   "cell_type": "code",
   "execution_count": 2,
   "metadata": {},
   "outputs": [],
   "source": [
    "bank_df = pd.read_csv(\"bank_marketing_part1_Data-1.csv\")"
   ]
  },
  {
   "cell_type": "code",
   "execution_count": 3,
   "metadata": {},
   "outputs": [
    {
     "data": {
      "text/html": [
       "<div>\n",
       "<style scoped>\n",
       "    .dataframe tbody tr th:only-of-type {\n",
       "        vertical-align: middle;\n",
       "    }\n",
       "\n",
       "    .dataframe tbody tr th {\n",
       "        vertical-align: top;\n",
       "    }\n",
       "\n",
       "    .dataframe thead th {\n",
       "        text-align: right;\n",
       "    }\n",
       "</style>\n",
       "<table border=\"1\" class=\"dataframe\">\n",
       "  <thead>\n",
       "    <tr style=\"text-align: right;\">\n",
       "      <th></th>\n",
       "      <th>spending</th>\n",
       "      <th>advance_payments</th>\n",
       "      <th>probability_of_full_payment</th>\n",
       "      <th>current_balance</th>\n",
       "      <th>credit_limit</th>\n",
       "      <th>min_payment_amt</th>\n",
       "      <th>max_spent_in_single_shopping</th>\n",
       "    </tr>\n",
       "  </thead>\n",
       "  <tbody>\n",
       "    <tr>\n",
       "      <th>0</th>\n",
       "      <td>19.94</td>\n",
       "      <td>16.92</td>\n",
       "      <td>0.8752</td>\n",
       "      <td>6.675</td>\n",
       "      <td>3.763</td>\n",
       "      <td>3.252</td>\n",
       "      <td>6.550</td>\n",
       "    </tr>\n",
       "    <tr>\n",
       "      <th>1</th>\n",
       "      <td>15.99</td>\n",
       "      <td>14.89</td>\n",
       "      <td>0.9064</td>\n",
       "      <td>5.363</td>\n",
       "      <td>3.582</td>\n",
       "      <td>3.336</td>\n",
       "      <td>5.144</td>\n",
       "    </tr>\n",
       "    <tr>\n",
       "      <th>2</th>\n",
       "      <td>18.95</td>\n",
       "      <td>16.42</td>\n",
       "      <td>0.8829</td>\n",
       "      <td>6.248</td>\n",
       "      <td>3.755</td>\n",
       "      <td>3.368</td>\n",
       "      <td>6.148</td>\n",
       "    </tr>\n",
       "    <tr>\n",
       "      <th>3</th>\n",
       "      <td>10.83</td>\n",
       "      <td>12.96</td>\n",
       "      <td>0.8099</td>\n",
       "      <td>5.278</td>\n",
       "      <td>2.641</td>\n",
       "      <td>5.182</td>\n",
       "      <td>5.185</td>\n",
       "    </tr>\n",
       "    <tr>\n",
       "      <th>4</th>\n",
       "      <td>17.99</td>\n",
       "      <td>15.86</td>\n",
       "      <td>0.8992</td>\n",
       "      <td>5.890</td>\n",
       "      <td>3.694</td>\n",
       "      <td>2.068</td>\n",
       "      <td>5.837</td>\n",
       "    </tr>\n",
       "  </tbody>\n",
       "</table>\n",
       "</div>"
      ],
      "text/plain": [
       "   spending  advance_payments  probability_of_full_payment  current_balance  \\\n",
       "0     19.94             16.92                       0.8752            6.675   \n",
       "1     15.99             14.89                       0.9064            5.363   \n",
       "2     18.95             16.42                       0.8829            6.248   \n",
       "3     10.83             12.96                       0.8099            5.278   \n",
       "4     17.99             15.86                       0.8992            5.890   \n",
       "\n",
       "   credit_limit  min_payment_amt  max_spent_in_single_shopping  \n",
       "0         3.763            3.252                         6.550  \n",
       "1         3.582            3.336                         5.144  \n",
       "2         3.755            3.368                         6.148  \n",
       "3         2.641            5.182                         5.185  \n",
       "4         3.694            2.068                         5.837  "
      ]
     },
     "execution_count": 3,
     "metadata": {},
     "output_type": "execute_result"
    }
   ],
   "source": [
    "bank_df.head()"
   ]
  },
  {
   "cell_type": "code",
   "execution_count": 4,
   "metadata": {},
   "outputs": [
    {
     "data": {
      "text/html": [
       "<div>\n",
       "<style scoped>\n",
       "    .dataframe tbody tr th:only-of-type {\n",
       "        vertical-align: middle;\n",
       "    }\n",
       "\n",
       "    .dataframe tbody tr th {\n",
       "        vertical-align: top;\n",
       "    }\n",
       "\n",
       "    .dataframe thead th {\n",
       "        text-align: right;\n",
       "    }\n",
       "</style>\n",
       "<table border=\"1\" class=\"dataframe\">\n",
       "  <thead>\n",
       "    <tr style=\"text-align: right;\">\n",
       "      <th></th>\n",
       "      <th>spending</th>\n",
       "      <th>advance_payments</th>\n",
       "      <th>probability_of_full_payment</th>\n",
       "      <th>current_balance</th>\n",
       "      <th>credit_limit</th>\n",
       "      <th>min_payment_amt</th>\n",
       "      <th>max_spent_in_single_shopping</th>\n",
       "    </tr>\n",
       "  </thead>\n",
       "  <tbody>\n",
       "    <tr>\n",
       "      <th>count</th>\n",
       "      <td>210.000000</td>\n",
       "      <td>210.000000</td>\n",
       "      <td>210.000000</td>\n",
       "      <td>210.000000</td>\n",
       "      <td>210.000000</td>\n",
       "      <td>210.000000</td>\n",
       "      <td>210.000000</td>\n",
       "    </tr>\n",
       "    <tr>\n",
       "      <th>mean</th>\n",
       "      <td>14.847524</td>\n",
       "      <td>14.559286</td>\n",
       "      <td>0.870999</td>\n",
       "      <td>5.628533</td>\n",
       "      <td>3.258605</td>\n",
       "      <td>3.700201</td>\n",
       "      <td>5.408071</td>\n",
       "    </tr>\n",
       "    <tr>\n",
       "      <th>std</th>\n",
       "      <td>2.909699</td>\n",
       "      <td>1.305959</td>\n",
       "      <td>0.023629</td>\n",
       "      <td>0.443063</td>\n",
       "      <td>0.377714</td>\n",
       "      <td>1.503557</td>\n",
       "      <td>0.491480</td>\n",
       "    </tr>\n",
       "    <tr>\n",
       "      <th>min</th>\n",
       "      <td>10.590000</td>\n",
       "      <td>12.410000</td>\n",
       "      <td>0.808100</td>\n",
       "      <td>4.899000</td>\n",
       "      <td>2.630000</td>\n",
       "      <td>0.765100</td>\n",
       "      <td>4.519000</td>\n",
       "    </tr>\n",
       "    <tr>\n",
       "      <th>25%</th>\n",
       "      <td>12.270000</td>\n",
       "      <td>13.450000</td>\n",
       "      <td>0.856900</td>\n",
       "      <td>5.262250</td>\n",
       "      <td>2.944000</td>\n",
       "      <td>2.561500</td>\n",
       "      <td>5.045000</td>\n",
       "    </tr>\n",
       "    <tr>\n",
       "      <th>50%</th>\n",
       "      <td>14.355000</td>\n",
       "      <td>14.320000</td>\n",
       "      <td>0.873450</td>\n",
       "      <td>5.523500</td>\n",
       "      <td>3.237000</td>\n",
       "      <td>3.599000</td>\n",
       "      <td>5.223000</td>\n",
       "    </tr>\n",
       "    <tr>\n",
       "      <th>75%</th>\n",
       "      <td>17.305000</td>\n",
       "      <td>15.715000</td>\n",
       "      <td>0.887775</td>\n",
       "      <td>5.979750</td>\n",
       "      <td>3.561750</td>\n",
       "      <td>4.768750</td>\n",
       "      <td>5.877000</td>\n",
       "    </tr>\n",
       "    <tr>\n",
       "      <th>max</th>\n",
       "      <td>21.180000</td>\n",
       "      <td>17.250000</td>\n",
       "      <td>0.918300</td>\n",
       "      <td>6.675000</td>\n",
       "      <td>4.033000</td>\n",
       "      <td>8.456000</td>\n",
       "      <td>6.550000</td>\n",
       "    </tr>\n",
       "  </tbody>\n",
       "</table>\n",
       "</div>"
      ],
      "text/plain": [
       "         spending  advance_payments  probability_of_full_payment  \\\n",
       "count  210.000000        210.000000                   210.000000   \n",
       "mean    14.847524         14.559286                     0.870999   \n",
       "std      2.909699          1.305959                     0.023629   \n",
       "min     10.590000         12.410000                     0.808100   \n",
       "25%     12.270000         13.450000                     0.856900   \n",
       "50%     14.355000         14.320000                     0.873450   \n",
       "75%     17.305000         15.715000                     0.887775   \n",
       "max     21.180000         17.250000                     0.918300   \n",
       "\n",
       "       current_balance  credit_limit  min_payment_amt  \\\n",
       "count       210.000000    210.000000       210.000000   \n",
       "mean          5.628533      3.258605         3.700201   \n",
       "std           0.443063      0.377714         1.503557   \n",
       "min           4.899000      2.630000         0.765100   \n",
       "25%           5.262250      2.944000         2.561500   \n",
       "50%           5.523500      3.237000         3.599000   \n",
       "75%           5.979750      3.561750         4.768750   \n",
       "max           6.675000      4.033000         8.456000   \n",
       "\n",
       "       max_spent_in_single_shopping  \n",
       "count                    210.000000  \n",
       "mean                       5.408071  \n",
       "std                        0.491480  \n",
       "min                        4.519000  \n",
       "25%                        5.045000  \n",
       "50%                        5.223000  \n",
       "75%                        5.877000  \n",
       "max                        6.550000  "
      ]
     },
     "execution_count": 4,
     "metadata": {},
     "output_type": "execute_result"
    }
   ],
   "source": [
    "bank_df.describe()"
   ]
  },
  {
   "cell_type": "code",
   "execution_count": 5,
   "metadata": {},
   "outputs": [
    {
     "name": "stdout",
     "output_type": "stream",
     "text": [
      "<class 'pandas.core.frame.DataFrame'>\n",
      "RangeIndex: 210 entries, 0 to 209\n",
      "Data columns (total 7 columns):\n",
      " #   Column                        Non-Null Count  Dtype  \n",
      "---  ------                        --------------  -----  \n",
      " 0   spending                      210 non-null    float64\n",
      " 1   advance_payments              210 non-null    float64\n",
      " 2   probability_of_full_payment   210 non-null    float64\n",
      " 3   current_balance               210 non-null    float64\n",
      " 4   credit_limit                  210 non-null    float64\n",
      " 5   min_payment_amt               210 non-null    float64\n",
      " 6   max_spent_in_single_shopping  210 non-null    float64\n",
      "dtypes: float64(7)\n",
      "memory usage: 11.6 KB\n"
     ]
    }
   ],
   "source": [
    "bank_df.info()"
   ]
  },
  {
   "cell_type": "code",
   "execution_count": 6,
   "metadata": {},
   "outputs": [
    {
     "data": {
      "application/vnd.jupyter.widget-view+json": {
       "model_id": "88acb804fe7f43abaa04b55112762043",
       "version_major": 2,
       "version_minor": 0
      },
      "text/plain": [
       "HBox(children=(HTML(value=''), FloatProgress(value=0.0, layout=Layout(flex='2'), max=8.0), HTML(value='')), la…"
      ]
     },
     "metadata": {},
     "output_type": "display_data"
    },
    {
     "name": "stdout",
     "output_type": "stream",
     "text": [
      "\n"
     ]
    }
   ],
   "source": [
    "bank_customer_Segment= sv.analyze(bank_df)"
   ]
  },
  {
   "cell_type": "code",
   "execution_count": 7,
   "metadata": {},
   "outputs": [
    {
     "name": "stdout",
     "output_type": "stream",
     "text": [
      "Report Bank_Customer_Segment.html was generated! NOTEBOOK/COLAB USERS: the web browser MAY not pop up, regardless, the report IS saved in your notebook/colab files.\n"
     ]
    }
   ],
   "source": [
    "bcs=bank_customer_Segment.show_html('Bank_Customer_Segment.html')\n",
    "bcs"
   ]
  },
  {
   "cell_type": "code",
   "execution_count": 8,
   "metadata": {},
   "outputs": [
    {
     "name": "stdout",
     "output_type": "stream",
     "text": [
      "Number of Duplicates 0\n"
     ]
    }
   ],
   "source": [
    "print(\"Number of Duplicates\",bank_df.duplicated().sum())"
   ]
  },
  {
   "cell_type": "code",
   "execution_count": 9,
   "metadata": {},
   "outputs": [
    {
     "data": {
      "text/plain": [
       "<AxesSubplot:>"
      ]
     },
     "execution_count": 9,
     "metadata": {},
     "output_type": "execute_result"
    },
    {
     "data": {
      "image/png": "[encoded data removed]",
      "text/plain": [
       "<Figure size 600x400 with 1 Axes>"
      ]
     },
     "metadata": {},
     "output_type": "display_data"
    }
   ],
   "source": [
    "bank_df.boxplot()"
   ]
  },
  {
   "cell_type": "markdown",
   "metadata": {},
   "source": [
    "#### 1.2  Do you think scaling is necessary for clustering in this case? Justify"
   ]
  },
  {
   "cell_type": "markdown",
   "metadata": {},
   "source": [
    "#### Yes, The Scaling is required asthe data set cointains diffrent range of values . Clustering uses  sort of distance measure                ( ex :euclidean distance) to determine if the data belong to particular class .So if there is a diffrence in range of values of data between variables It will affect the clustering determination as Higher weitage variable may get more preference .So scaling is required in clustering . In this data also we neeed to do clustering cos there are diffrence in range of values between columns. For example spending mean is 14.8 whreas probability of full payment mean is 0.8709."
   ]
  },
  {
   "cell_type": "code",
   "execution_count": 10,
   "metadata": {},
   "outputs": [
    {
     "data": {
      "text/html": [
       "<div>\n",
       "<style scoped>\n",
       "    .dataframe tbody tr th:only-of-type {\n",
       "        vertical-align: middle;\n",
       "    }\n",
       "\n",
       "    .dataframe tbody tr th {\n",
       "        vertical-align: top;\n",
       "    }\n",
       "\n",
       "    .dataframe thead th {\n",
       "        text-align: right;\n",
       "    }\n",
       "</style>\n",
       "<table border=\"1\" class=\"dataframe\">\n",
       "  <thead>\n",
       "    <tr style=\"text-align: right;\">\n",
       "      <th></th>\n",
       "      <th>spending</th>\n",
       "      <th>advance_payments</th>\n",
       "      <th>probability_of_full_payment</th>\n",
       "      <th>current_balance</th>\n",
       "      <th>credit_limit</th>\n",
       "      <th>min_payment_amt</th>\n",
       "      <th>max_spent_in_single_shopping</th>\n",
       "    </tr>\n",
       "  </thead>\n",
       "  <tbody>\n",
       "    <tr>\n",
       "      <th>count</th>\n",
       "      <td>2.100000e+02</td>\n",
       "      <td>2.100000e+02</td>\n",
       "      <td>2.100000e+02</td>\n",
       "      <td>2.100000e+02</td>\n",
       "      <td>2.100000e+02</td>\n",
       "      <td>2.100000e+02</td>\n",
       "      <td>2.100000e+02</td>\n",
       "    </tr>\n",
       "    <tr>\n",
       "      <th>mean</th>\n",
       "      <td>9.148766e-16</td>\n",
       "      <td>1.097006e-16</td>\n",
       "      <td>1.260896e-15</td>\n",
       "      <td>-1.358702e-16</td>\n",
       "      <td>-2.790757e-16</td>\n",
       "      <td>5.418946e-16</td>\n",
       "      <td>-1.935489e-15</td>\n",
       "    </tr>\n",
       "    <tr>\n",
       "      <th>std</th>\n",
       "      <td>1.002389e+00</td>\n",
       "      <td>1.002389e+00</td>\n",
       "      <td>1.002389e+00</td>\n",
       "      <td>1.002389e+00</td>\n",
       "      <td>1.002389e+00</td>\n",
       "      <td>1.002389e+00</td>\n",
       "      <td>1.002389e+00</td>\n",
       "    </tr>\n",
       "    <tr>\n",
       "      <th>min</th>\n",
       "      <td>-1.466714e+00</td>\n",
       "      <td>-1.649686e+00</td>\n",
       "      <td>-2.668236e+00</td>\n",
       "      <td>-1.650501e+00</td>\n",
       "      <td>-1.668209e+00</td>\n",
       "      <td>-1.956769e+00</td>\n",
       "      <td>-1.813288e+00</td>\n",
       "    </tr>\n",
       "    <tr>\n",
       "      <th>25%</th>\n",
       "      <td>-8.879552e-01</td>\n",
       "      <td>-8.514330e-01</td>\n",
       "      <td>-5.980791e-01</td>\n",
       "      <td>-8.286816e-01</td>\n",
       "      <td>-8.349072e-01</td>\n",
       "      <td>-7.591477e-01</td>\n",
       "      <td>-7.404953e-01</td>\n",
       "    </tr>\n",
       "    <tr>\n",
       "      <th>50%</th>\n",
       "      <td>-1.696741e-01</td>\n",
       "      <td>-1.836639e-01</td>\n",
       "      <td>1.039927e-01</td>\n",
       "      <td>-2.376280e-01</td>\n",
       "      <td>-5.733534e-02</td>\n",
       "      <td>-6.746852e-02</td>\n",
       "      <td>-3.774588e-01</td>\n",
       "    </tr>\n",
       "    <tr>\n",
       "      <th>75%</th>\n",
       "      <td>8.465989e-01</td>\n",
       "      <td>8.870693e-01</td>\n",
       "      <td>7.116771e-01</td>\n",
       "      <td>7.945947e-01</td>\n",
       "      <td>8.044956e-01</td>\n",
       "      <td>7.123789e-01</td>\n",
       "      <td>9.563941e-01</td>\n",
       "    </tr>\n",
       "    <tr>\n",
       "      <th>max</th>\n",
       "      <td>2.181534e+00</td>\n",
       "      <td>2.065260e+00</td>\n",
       "      <td>2.006586e+00</td>\n",
       "      <td>2.367533e+00</td>\n",
       "      <td>2.055112e+00</td>\n",
       "      <td>3.170590e+00</td>\n",
       "      <td>2.328998e+00</td>\n",
       "    </tr>\n",
       "  </tbody>\n",
       "</table>\n",
       "</div>"
      ],
      "text/plain": [
       "           spending  advance_payments  probability_of_full_payment  \\\n",
       "count  2.100000e+02      2.100000e+02                 2.100000e+02   \n",
       "mean   9.148766e-16      1.097006e-16                 1.260896e-15   \n",
       "std    1.002389e+00      1.002389e+00                 1.002389e+00   \n",
       "min   -1.466714e+00     -1.649686e+00                -2.668236e+00   \n",
       "25%   -8.879552e-01     -8.514330e-01                -5.980791e-01   \n",
       "50%   -1.696741e-01     -1.836639e-01                 1.039927e-01   \n",
       "75%    8.465989e-01      8.870693e-01                 7.116771e-01   \n",
       "max    2.181534e+00      2.065260e+00                 2.006586e+00   \n",
       "\n",
       "       current_balance  credit_limit  min_payment_amt  \\\n",
       "count     2.100000e+02  2.100000e+02     2.100000e+02   \n",
       "mean     -1.358702e-16 -2.790757e-16     5.418946e-16   \n",
       "std       1.002389e+00  1.002389e+00     1.002389e+00   \n",
       "min      -1.650501e+00 -1.668209e+00    -1.956769e+00   \n",
       "25%      -8.286816e-01 -8.349072e-01    -7.591477e-01   \n",
       "50%      -2.376280e-01 -5.733534e-02    -6.746852e-02   \n",
       "75%       7.945947e-01  8.044956e-01     7.123789e-01   \n",
       "max       2.367533e+00  2.055112e+00     3.170590e+00   \n",
       "\n",
       "       max_spent_in_single_shopping  \n",
       "count                  2.100000e+02  \n",
       "mean                  -1.935489e-15  \n",
       "std                    1.002389e+00  \n",
       "min                   -1.813288e+00  \n",
       "25%                   -7.404953e-01  \n",
       "50%                   -3.774588e-01  \n",
       "75%                    9.563941e-01  \n",
       "max                    2.328998e+00  "
      ]
     },
     "execution_count": 10,
     "metadata": {},
     "output_type": "execute_result"
    }
   ],
   "source": [
    "bank_scale=bank_df.apply(zscore)\n",
    "bank_scale.describe()"
   ]
  },
  {
   "cell_type": "markdown",
   "metadata": {},
   "source": [
    "#### 1.3 Apply hierarchical clustering to scaled data. Identify the number of optimum clusters using Dendrogram and briefly describe them"
   ]
  },
  {
   "cell_type": "code",
   "execution_count": 11,
   "metadata": {},
   "outputs": [
    {
     "data": {
      "image/png": "[encoded data removed]",
      "text/plain": [
       "<Figure size 600x400 with 1 Axes>"
      ]
     },
     "metadata": {},
     "output_type": "display_data"
    }
   ],
   "source": [
    "wardlink = linkage(bank_scale, method = 'ward')\n",
    "dnd = dendrogram(wardlink)"
   ]
  },
  {
   "cell_type": "code",
   "execution_count": 12,
   "metadata": {},
   "outputs": [
    {
     "data": {
      "image/png": "[encoded data removed]",
      "text/plain": [
       "<Figure size 600x400 with 1 Axes>"
      ]
     },
     "metadata": {},
     "output_type": "display_data"
    }
   ],
   "source": [
    "dnd = dendrogram(wardlink,\n",
    "                 truncate_mode='lastp',\n",
    "                 p =6,\n",
    "                 )"
   ]
  },
  {
   "cell_type": "code",
   "execution_count": 13,
   "metadata": {},
   "outputs": [
    {
     "data": {
      "image/png": "[encoded data removed]",
      "text/plain": [
       "<Figure size 600x400 with 1 Axes>"
      ]
     },
     "metadata": {},
     "output_type": "display_data"
    }
   ],
   "source": [
    "dnd = dendrogram(wardlink,\n",
    "                 truncate_mode='lastp',\n",
    "                 p =3,\n",
    "                 )"
   ]
  },
  {
   "cell_type": "code",
   "execution_count": 14,
   "metadata": {},
   "outputs": [
    {
     "data": {
      "text/plain": [
       "array([1, 3, 1, 2, 1, 2, 2, 3, 1, 2, 1, 3, 2, 1, 3, 2, 3, 2, 3, 2, 2, 2,\n",
       "       1, 2, 3, 1, 3, 2, 2, 2, 3, 2, 2, 3, 2, 2, 2, 2, 2, 1, 1, 3, 1, 1,\n",
       "       2, 2, 3, 1, 1, 1, 2, 1, 1, 1, 1, 1, 2, 2, 2, 1, 3, 2, 2, 3, 3, 1,\n",
       "       1, 3, 1, 2, 3, 2, 1, 1, 2, 1, 3, 2, 1, 3, 3, 3, 3, 1, 2, 3, 3, 1,\n",
       "       1, 2, 3, 1, 3, 2, 2, 1, 1, 1, 2, 1, 2, 1, 3, 1, 3, 1, 1, 2, 2, 1,\n",
       "       3, 3, 1, 2, 2, 1, 3, 3, 2, 1, 3, 2, 2, 2, 3, 3, 1, 2, 3, 3, 2, 3,\n",
       "       3, 1, 2, 1, 1, 2, 1, 3, 3, 3, 2, 2, 3, 2, 1, 2, 3, 2, 3, 2, 3, 3,\n",
       "       3, 3, 3, 2, 3, 1, 1, 2, 1, 1, 1, 2, 1, 3, 3, 3, 3, 2, 3, 1, 1, 1,\n",
       "       3, 3, 1, 2, 3, 3, 3, 3, 1, 1, 3, 3, 3, 2, 3, 3, 2, 1, 3, 1, 1, 2,\n",
       "       1, 2, 3, 1, 3, 2, 1, 3, 1, 3, 1, 3], dtype=int32)"
      ]
     },
     "execution_count": 14,
     "metadata": {},
     "output_type": "execute_result"
    }
   ],
   "source": [
    "clusters = fcluster(wardlink, 3, criterion='maxclust')\n",
    "clusters"
   ]
  },
  {
   "cell_type": "code",
   "execution_count": 15,
   "metadata": {},
   "outputs": [],
   "source": [
    "hierarchicaldata= bank_df.copy()"
   ]
  },
  {
   "cell_type": "code",
   "execution_count": 16,
   "metadata": {},
   "outputs": [
    {
     "data": {
      "text/html": [
       "<div>\n",
       "<style scoped>\n",
       "    .dataframe tbody tr th:only-of-type {\n",
       "        vertical-align: middle;\n",
       "    }\n",
       "\n",
       "    .dataframe tbody tr th {\n",
       "        vertical-align: top;\n",
       "    }\n",
       "\n",
       "    .dataframe thead th {\n",
       "        text-align: right;\n",
       "    }\n",
       "</style>\n",
       "<table border=\"1\" class=\"dataframe\">\n",
       "  <thead>\n",
       "    <tr style=\"text-align: right;\">\n",
       "      <th></th>\n",
       "      <th>spending</th>\n",
       "      <th>advance_payments</th>\n",
       "      <th>probability_of_full_payment</th>\n",
       "      <th>current_balance</th>\n",
       "      <th>credit_limit</th>\n",
       "      <th>min_payment_amt</th>\n",
       "      <th>max_spent_in_single_shopping</th>\n",
       "      <th>cluster</th>\n",
       "    </tr>\n",
       "  </thead>\n",
       "  <tbody>\n",
       "    <tr>\n",
       "      <th>0</th>\n",
       "      <td>19.94</td>\n",
       "      <td>16.92</td>\n",
       "      <td>0.8752</td>\n",
       "      <td>6.675</td>\n",
       "      <td>3.763</td>\n",
       "      <td>3.252</td>\n",
       "      <td>6.550</td>\n",
       "      <td>1</td>\n",
       "    </tr>\n",
       "    <tr>\n",
       "      <th>1</th>\n",
       "      <td>15.99</td>\n",
       "      <td>14.89</td>\n",
       "      <td>0.9064</td>\n",
       "      <td>5.363</td>\n",
       "      <td>3.582</td>\n",
       "      <td>3.336</td>\n",
       "      <td>5.144</td>\n",
       "      <td>3</td>\n",
       "    </tr>\n",
       "    <tr>\n",
       "      <th>2</th>\n",
       "      <td>18.95</td>\n",
       "      <td>16.42</td>\n",
       "      <td>0.8829</td>\n",
       "      <td>6.248</td>\n",
       "      <td>3.755</td>\n",
       "      <td>3.368</td>\n",
       "      <td>6.148</td>\n",
       "      <td>1</td>\n",
       "    </tr>\n",
       "    <tr>\n",
       "      <th>3</th>\n",
       "      <td>10.83</td>\n",
       "      <td>12.96</td>\n",
       "      <td>0.8099</td>\n",
       "      <td>5.278</td>\n",
       "      <td>2.641</td>\n",
       "      <td>5.182</td>\n",
       "      <td>5.185</td>\n",
       "      <td>2</td>\n",
       "    </tr>\n",
       "    <tr>\n",
       "      <th>4</th>\n",
       "      <td>17.99</td>\n",
       "      <td>15.86</td>\n",
       "      <td>0.8992</td>\n",
       "      <td>5.890</td>\n",
       "      <td>3.694</td>\n",
       "      <td>2.068</td>\n",
       "      <td>5.837</td>\n",
       "      <td>1</td>\n",
       "    </tr>\n",
       "    <tr>\n",
       "      <th>5</th>\n",
       "      <td>12.70</td>\n",
       "      <td>13.41</td>\n",
       "      <td>0.8874</td>\n",
       "      <td>5.183</td>\n",
       "      <td>3.091</td>\n",
       "      <td>8.456</td>\n",
       "      <td>5.000</td>\n",
       "      <td>2</td>\n",
       "    </tr>\n",
       "    <tr>\n",
       "      <th>6</th>\n",
       "      <td>12.02</td>\n",
       "      <td>13.33</td>\n",
       "      <td>0.8503</td>\n",
       "      <td>5.350</td>\n",
       "      <td>2.810</td>\n",
       "      <td>4.271</td>\n",
       "      <td>5.308</td>\n",
       "      <td>2</td>\n",
       "    </tr>\n",
       "    <tr>\n",
       "      <th>7</th>\n",
       "      <td>13.74</td>\n",
       "      <td>14.05</td>\n",
       "      <td>0.8744</td>\n",
       "      <td>5.482</td>\n",
       "      <td>3.114</td>\n",
       "      <td>2.932</td>\n",
       "      <td>4.825</td>\n",
       "      <td>3</td>\n",
       "    </tr>\n",
       "    <tr>\n",
       "      <th>8</th>\n",
       "      <td>18.17</td>\n",
       "      <td>16.26</td>\n",
       "      <td>0.8637</td>\n",
       "      <td>6.271</td>\n",
       "      <td>3.512</td>\n",
       "      <td>2.853</td>\n",
       "      <td>6.273</td>\n",
       "      <td>1</td>\n",
       "    </tr>\n",
       "    <tr>\n",
       "      <th>9</th>\n",
       "      <td>11.23</td>\n",
       "      <td>12.88</td>\n",
       "      <td>0.8511</td>\n",
       "      <td>5.140</td>\n",
       "      <td>2.795</td>\n",
       "      <td>4.325</td>\n",
       "      <td>5.003</td>\n",
       "      <td>2</td>\n",
       "    </tr>\n",
       "  </tbody>\n",
       "</table>\n",
       "</div>"
      ],
      "text/plain": [
       "   spending  advance_payments  probability_of_full_payment  current_balance  \\\n",
       "0     19.94             16.92                       0.8752            6.675   \n",
       "1     15.99             14.89                       0.9064            5.363   \n",
       "2     18.95             16.42                       0.8829            6.248   \n",
       "3     10.83             12.96                       0.8099            5.278   \n",
       "4     17.99             15.86                       0.8992            5.890   \n",
       "5     12.70             13.41                       0.8874            5.183   \n",
       "6     12.02             13.33                       0.8503            5.350   \n",
       "7     13.74             14.05                       0.8744            5.482   \n",
       "8     18.17             16.26                       0.8637            6.271   \n",
       "9     11.23             12.88                       0.8511            5.140   \n",
       "\n",
       "   credit_limit  min_payment_amt  max_spent_in_single_shopping  cluster  \n",
       "0         3.763            3.252                         6.550        1  \n",
       "1         3.582            3.336                         5.144        3  \n",
       "2         3.755            3.368                         6.148        1  \n",
       "3         2.641            5.182                         5.185        2  \n",
       "4         3.694            2.068                         5.837        1  \n",
       "5         3.091            8.456                         5.000        2  \n",
       "6         2.810            4.271                         5.308        2  \n",
       "7         3.114            2.932                         4.825        3  \n",
       "8         3.512            2.853                         6.273        1  \n",
       "9         2.795            4.325                         5.003        2  "
      ]
     },
     "execution_count": 16,
     "metadata": {},
     "output_type": "execute_result"
    }
   ],
   "source": [
    "hierarchicaldata['cluster']=clusters\n",
    "hierarchicaldata.head(10)"
   ]
  },
  {
   "cell_type": "code",
   "execution_count": 17,
   "metadata": {},
   "outputs": [
    {
     "name": "stdout",
     "output_type": "stream",
     "text": [
      "cluster                                     1          2          3\n",
      "spending                     count  70.000000  67.000000  73.000000\n",
      "                             mean   18.371429  11.872388  14.199041\n",
      "                             std     1.381233   0.735848   1.230930\n",
      "                             min    15.380000  10.590000  11.230000\n",
      "                             25%    17.330000  11.250000  13.500000\n",
      "                             50%    18.720000  11.830000  14.330000\n",
      "                             75%    19.137500  12.450000  15.030000\n",
      "                             max    21.180000  13.370000  16.630000\n",
      "advance_payments             count  70.000000  67.000000  73.000000\n",
      "                             mean   16.145429  13.257015  14.233562\n",
      "                             std     0.599277   0.353348   0.600399\n",
      "                             min    14.860000  12.410000  12.630000\n",
      "                             25%    15.737500  13.000000  13.850000\n",
      "                             50%    16.210000  13.270000  14.280000\n",
      "                             75%    16.557500  13.520000  14.670000\n",
      "                             max    17.250000  13.950000  15.460000\n",
      "probability_of_full_payment  count  70.000000  67.000000  73.000000\n",
      "                             mean    0.884400   0.848072   0.879190\n",
      "                             std     0.014767   0.020311   0.017373\n",
      "                             min     0.845200   0.808100   0.833500\n",
      "                             25%     0.874700   0.834400   0.868000\n",
      "                             50%     0.883950   0.849100   0.879600\n",
      "                             75%     0.898225   0.861100   0.892300\n",
      "                             max     0.910800   0.888300   0.918300\n",
      "current_balance              count  70.000000  67.000000  73.000000\n",
      "                             mean    6.158171   5.238940   5.478233\n",
      "                             std     0.245926   0.136087   0.240882\n",
      "                             min     5.709000   4.899000   4.902000\n",
      "                             25%     5.979250   5.142500   5.351000\n",
      "                             50%     6.148500   5.236000   5.504000\n",
      "                             75%     6.312000   5.329000   5.658000\n",
      "                             max     6.675000   5.541000   6.053000\n",
      "credit_limit                 count  70.000000  67.000000  73.000000\n",
      "                             mean    3.684629   2.848537   3.226452\n",
      "                             std     0.174909   0.142565   0.179454\n",
      "                             min     3.268000   2.630000   2.719000\n",
      "                             25%     3.554250   2.731000   3.129000\n",
      "                             50%     3.693500   2.833000   3.221000\n",
      "                             75%     3.804750   2.967000   3.371000\n",
      "                             max     4.033000   3.232000   3.582000\n",
      "min_payment_amt              count  70.000000  67.000000  73.000000\n",
      "                             mean    3.639157   4.949433   2.612181\n",
      "                             std     1.208271   1.170672   1.118413\n",
      "                             min     1.472000   3.082000   0.765100\n",
      "                             25%     2.845500   4.117000   1.791000\n",
      "                             50%     3.629000   4.857000   2.504000\n",
      "                             75%     4.459250   5.470500   3.136000\n",
      "                             max     6.682000   8.456000   6.685000\n",
      "max_spent_in_single_shopping count  70.000000  67.000000  73.000000\n",
      "                             mean    6.017371   5.122209   5.086178\n",
      "                             std     0.251132   0.156953   0.275904\n",
      "                             min     5.443000   4.794000   4.519000\n",
      "                             25%     5.877000   5.002000   4.872000\n",
      "                             50%     5.981500   5.091000   5.097000\n",
      "                             75%     6.187750   5.247000   5.220000\n",
      "                             max     6.550000   5.491000   5.879000\n"
     ]
    }
   ],
   "source": [
    "hclustr=hierarchicaldata.groupby('cluster').describe().T\n",
    "with pd.option_context('display.max_rows', None, 'display.max_columns', None):  # more options can be specified also\n",
    "    print(hclustr)"
   ]
  },
  {
   "cell_type": "markdown",
   "metadata": {},
   "source": [
    "#### 1.4 Apply K-Means clustering on scaled data and determine optimum clusters. Apply elbow curve and silhouette score. Explain the results properly. Interpret and write inferences on the finalized clusters."
   ]
  },
  {
   "cell_type": "code",
   "execution_count": 18,
   "metadata": {},
   "outputs": [],
   "source": [
    "wss =[]\n",
    "for i in range(1,11):\n",
    "    KM = KMeans(n_clusters=i)\n",
    "    KM.fit(bank_scale)\n",
    "    wss.append(KM.inertia_)"
   ]
  },
  {
   "cell_type": "code",
   "execution_count": 19,
   "metadata": {},
   "outputs": [
    {
     "data": {
      "text/plain": [
       "[<matplotlib.lines.Line2D at 0x1b9224d9190>]"
      ]
     },
     "execution_count": 19,
     "metadata": {},
     "output_type": "execute_result"
    },
    {
     "data": {
      "image/png": "[encoded data removed]",
      "text/plain": [
       "<Figure size 600x400 with 1 Axes>"
      ]
     },
     "metadata": {},
     "output_type": "display_data"
    }
   ],
   "source": [
    "plt.plot(range(1,11), wss)"
   ]
  },
  {
   "cell_type": "code",
   "execution_count": 20,
   "metadata": {},
   "outputs": [],
   "source": [
    "k_means = KMeans(n_clusters = 3)\n",
    "k_means.fit(bank_scale)\n",
    "labels = k_means.labels_"
   ]
  },
  {
   "cell_type": "code",
   "execution_count": 21,
   "metadata": {},
   "outputs": [
    {
     "data": {
      "text/plain": [
       "659.171754487041"
      ]
     },
     "execution_count": 21,
     "metadata": {},
     "output_type": "execute_result"
    }
   ],
   "source": [
    "k_means2 = KMeans(n_clusters = 2)\n",
    "k_means2.fit(bank_scale)\n",
    "k_means2.inertia_"
   ]
  },
  {
   "cell_type": "code",
   "execution_count": 22,
   "metadata": {},
   "outputs": [
    {
     "data": {
      "text/plain": [
       "371.29354819439664"
      ]
     },
     "execution_count": 22,
     "metadata": {},
     "output_type": "execute_result"
    }
   ],
   "source": [
    "k_means4 = KMeans(n_clusters = 4)\n",
    "k_means4.fit(bank_scale)\n",
    "k_means4.inertia_"
   ]
  },
  {
   "cell_type": "code",
   "execution_count": 23,
   "metadata": {},
   "outputs": [
    {
     "data": {
      "text/plain": [
       "327.3281094192775"
      ]
     },
     "execution_count": 23,
     "metadata": {},
     "output_type": "execute_result"
    }
   ],
   "source": [
    "k_means5 = KMeans(n_clusters = 5)\n",
    "k_means5.fit(bank_scale)\n",
    "k_means5.inertia_"
   ]
  },
  {
   "cell_type": "code",
   "execution_count": 24,
   "metadata": {},
   "outputs": [
    {
     "data": {
      "text/plain": [
       "430.6589731513006"
      ]
     },
     "execution_count": 24,
     "metadata": {},
     "output_type": "execute_result"
    }
   ],
   "source": [
    "interia= k_means.inertia_\n",
    "interia"
   ]
  },
  {
   "cell_type": "code",
   "execution_count": 25,
   "metadata": {},
   "outputs": [],
   "source": [
    "kmeansdata= bank_df.copy()"
   ]
  },
  {
   "cell_type": "code",
   "execution_count": null,
   "metadata": {},
   "outputs": [],
   "source": []
  },
  {
   "cell_type": "code",
   "execution_count": 26,
   "metadata": {},
   "outputs": [
    {
     "data": {
      "text/html": [
       "<div>\n",
       "<style scoped>\n",
       "    .dataframe tbody tr th:only-of-type {\n",
       "        vertical-align: middle;\n",
       "    }\n",
       "\n",
       "    .dataframe tbody tr th {\n",
       "        vertical-align: top;\n",
       "    }\n",
       "\n",
       "    .dataframe thead th {\n",
       "        text-align: right;\n",
       "    }\n",
       "</style>\n",
       "<table border=\"1\" class=\"dataframe\">\n",
       "  <thead>\n",
       "    <tr style=\"text-align: right;\">\n",
       "      <th></th>\n",
       "      <th>spending</th>\n",
       "      <th>advance_payments</th>\n",
       "      <th>probability_of_full_payment</th>\n",
       "      <th>current_balance</th>\n",
       "      <th>credit_limit</th>\n",
       "      <th>min_payment_amt</th>\n",
       "      <th>max_spent_in_single_shopping</th>\n",
       "      <th>Clus_kmeans</th>\n",
       "    </tr>\n",
       "  </thead>\n",
       "  <tbody>\n",
       "    <tr>\n",
       "      <th>0</th>\n",
       "      <td>19.94</td>\n",
       "      <td>16.92</td>\n",
       "      <td>0.8752</td>\n",
       "      <td>6.675</td>\n",
       "      <td>3.763</td>\n",
       "      <td>3.252</td>\n",
       "      <td>6.550</td>\n",
       "      <td>1</td>\n",
       "    </tr>\n",
       "    <tr>\n",
       "      <th>1</th>\n",
       "      <td>15.99</td>\n",
       "      <td>14.89</td>\n",
       "      <td>0.9064</td>\n",
       "      <td>5.363</td>\n",
       "      <td>3.582</td>\n",
       "      <td>3.336</td>\n",
       "      <td>5.144</td>\n",
       "      <td>0</td>\n",
       "    </tr>\n",
       "    <tr>\n",
       "      <th>2</th>\n",
       "      <td>18.95</td>\n",
       "      <td>16.42</td>\n",
       "      <td>0.8829</td>\n",
       "      <td>6.248</td>\n",
       "      <td>3.755</td>\n",
       "      <td>3.368</td>\n",
       "      <td>6.148</td>\n",
       "      <td>1</td>\n",
       "    </tr>\n",
       "    <tr>\n",
       "      <th>3</th>\n",
       "      <td>10.83</td>\n",
       "      <td>12.96</td>\n",
       "      <td>0.8099</td>\n",
       "      <td>5.278</td>\n",
       "      <td>2.641</td>\n",
       "      <td>5.182</td>\n",
       "      <td>5.185</td>\n",
       "      <td>2</td>\n",
       "    </tr>\n",
       "    <tr>\n",
       "      <th>4</th>\n",
       "      <td>17.99</td>\n",
       "      <td>15.86</td>\n",
       "      <td>0.8992</td>\n",
       "      <td>5.890</td>\n",
       "      <td>3.694</td>\n",
       "      <td>2.068</td>\n",
       "      <td>5.837</td>\n",
       "      <td>1</td>\n",
       "    </tr>\n",
       "  </tbody>\n",
       "</table>\n",
       "</div>"
      ],
      "text/plain": [
       "   spending  advance_payments  probability_of_full_payment  current_balance  \\\n",
       "0     19.94             16.92                       0.8752            6.675   \n",
       "1     15.99             14.89                       0.9064            5.363   \n",
       "2     18.95             16.42                       0.8829            6.248   \n",
       "3     10.83             12.96                       0.8099            5.278   \n",
       "4     17.99             15.86                       0.8992            5.890   \n",
       "\n",
       "   credit_limit  min_payment_amt  max_spent_in_single_shopping  Clus_kmeans  \n",
       "0         3.763            3.252                         6.550            1  \n",
       "1         3.582            3.336                         5.144            0  \n",
       "2         3.755            3.368                         6.148            1  \n",
       "3         2.641            5.182                         5.185            2  \n",
       "4         3.694            2.068                         5.837            1  "
      ]
     },
     "execution_count": 26,
     "metadata": {},
     "output_type": "execute_result"
    }
   ],
   "source": [
    "bank_df[\"Clus_kmeans\"] = labels\n",
    "bank_df.head(5)"
   ]
  },
  {
   "cell_type": "code",
   "execution_count": 27,
   "metadata": {},
   "outputs": [
    {
     "data": {
      "text/plain": [
       "0.4007270552751299"
      ]
     },
     "execution_count": 27,
     "metadata": {},
     "output_type": "execute_result"
    }
   ],
   "source": [
    "silhouette_score(bank_scale,labels)"
   ]
  },
  {
   "cell_type": "code",
   "execution_count": 28,
   "metadata": {},
   "outputs": [
    {
     "data": {
      "text/html": [
       "<div>\n",
       "<style scoped>\n",
       "    .dataframe tbody tr th:only-of-type {\n",
       "        vertical-align: middle;\n",
       "    }\n",
       "\n",
       "    .dataframe tbody tr th {\n",
       "        vertical-align: top;\n",
       "    }\n",
       "\n",
       "    .dataframe thead th {\n",
       "        text-align: right;\n",
       "    }\n",
       "</style>\n",
       "<table border=\"1\" class=\"dataframe\">\n",
       "  <thead>\n",
       "    <tr style=\"text-align: right;\">\n",
       "      <th></th>\n",
       "      <th>spending</th>\n",
       "      <th>advance_payments</th>\n",
       "      <th>probability_of_full_payment</th>\n",
       "      <th>current_balance</th>\n",
       "      <th>credit_limit</th>\n",
       "      <th>min_payment_amt</th>\n",
       "      <th>max_spent_in_single_shopping</th>\n",
       "      <th>Clus_kmeans</th>\n",
       "      <th>sil_width</th>\n",
       "    </tr>\n",
       "  </thead>\n",
       "  <tbody>\n",
       "    <tr>\n",
       "      <th>0</th>\n",
       "      <td>19.94</td>\n",
       "      <td>16.92</td>\n",
       "      <td>0.8752</td>\n",
       "      <td>6.675</td>\n",
       "      <td>3.763</td>\n",
       "      <td>3.252</td>\n",
       "      <td>6.550</td>\n",
       "      <td>1</td>\n",
       "      <td>0.573699</td>\n",
       "    </tr>\n",
       "    <tr>\n",
       "      <th>1</th>\n",
       "      <td>15.99</td>\n",
       "      <td>14.89</td>\n",
       "      <td>0.9064</td>\n",
       "      <td>5.363</td>\n",
       "      <td>3.582</td>\n",
       "      <td>3.336</td>\n",
       "      <td>5.144</td>\n",
       "      <td>0</td>\n",
       "      <td>0.366386</td>\n",
       "    </tr>\n",
       "    <tr>\n",
       "      <th>2</th>\n",
       "      <td>18.95</td>\n",
       "      <td>16.42</td>\n",
       "      <td>0.8829</td>\n",
       "      <td>6.248</td>\n",
       "      <td>3.755</td>\n",
       "      <td>3.368</td>\n",
       "      <td>6.148</td>\n",
       "      <td>1</td>\n",
       "      <td>0.637784</td>\n",
       "    </tr>\n",
       "    <tr>\n",
       "      <th>3</th>\n",
       "      <td>10.83</td>\n",
       "      <td>12.96</td>\n",
       "      <td>0.8099</td>\n",
       "      <td>5.278</td>\n",
       "      <td>2.641</td>\n",
       "      <td>5.182</td>\n",
       "      <td>5.185</td>\n",
       "      <td>2</td>\n",
       "      <td>0.512458</td>\n",
       "    </tr>\n",
       "    <tr>\n",
       "      <th>4</th>\n",
       "      <td>17.99</td>\n",
       "      <td>15.86</td>\n",
       "      <td>0.8992</td>\n",
       "      <td>5.890</td>\n",
       "      <td>3.694</td>\n",
       "      <td>2.068</td>\n",
       "      <td>5.837</td>\n",
       "      <td>1</td>\n",
       "      <td>0.362276</td>\n",
       "    </tr>\n",
       "  </tbody>\n",
       "</table>\n",
       "</div>"
      ],
      "text/plain": [
       "   spending  advance_payments  probability_of_full_payment  current_balance  \\\n",
       "0     19.94             16.92                       0.8752            6.675   \n",
       "1     15.99             14.89                       0.9064            5.363   \n",
       "2     18.95             16.42                       0.8829            6.248   \n",
       "3     10.83             12.96                       0.8099            5.278   \n",
       "4     17.99             15.86                       0.8992            5.890   \n",
       "\n",
       "   credit_limit  min_payment_amt  max_spent_in_single_shopping  Clus_kmeans  \\\n",
       "0         3.763            3.252                         6.550            1   \n",
       "1         3.582            3.336                         5.144            0   \n",
       "2         3.755            3.368                         6.148            1   \n",
       "3         2.641            5.182                         5.185            2   \n",
       "4         3.694            2.068                         5.837            1   \n",
       "\n",
       "   sil_width  \n",
       "0   0.573699  \n",
       "1   0.366386  \n",
       "2   0.637784  \n",
       "3   0.512458  \n",
       "4   0.362276  "
      ]
     },
     "execution_count": 28,
     "metadata": {},
     "output_type": "execute_result"
    }
   ],
   "source": [
    "sil_width = silhouette_samples(bank_scale,labels)\n",
    "bank_df[\"sil_width\"] = sil_width\n",
    "\n",
    "bank_df.head(5)"
   ]
  },
  {
   "cell_type": "code",
   "execution_count": 29,
   "metadata": {},
   "outputs": [
    {
     "data": {
      "text/html": [
       "<div>\n",
       "<style scoped>\n",
       "    .dataframe tbody tr th:only-of-type {\n",
       "        vertical-align: middle;\n",
       "    }\n",
       "\n",
       "    .dataframe tbody tr th {\n",
       "        vertical-align: top;\n",
       "    }\n",
       "\n",
       "    .dataframe thead th {\n",
       "        text-align: right;\n",
       "    }\n",
       "</style>\n",
       "<table border=\"1\" class=\"dataframe\">\n",
       "  <thead>\n",
       "    <tr style=\"text-align: right;\">\n",
       "      <th></th>\n",
       "      <th>Clus_kmeans</th>\n",
       "      <th>0</th>\n",
       "      <th>1</th>\n",
       "      <th>2</th>\n",
       "    </tr>\n",
       "  </thead>\n",
       "  <tbody>\n",
       "    <tr>\n",
       "      <th rowspan=\"5\" valign=\"top\">spending</th>\n",
       "      <th>count</th>\n",
       "      <td>71.000000</td>\n",
       "      <td>67.000000</td>\n",
       "      <td>72.000000</td>\n",
       "    </tr>\n",
       "    <tr>\n",
       "      <th>mean</th>\n",
       "      <td>14.437887</td>\n",
       "      <td>18.495373</td>\n",
       "      <td>11.856944</td>\n",
       "    </tr>\n",
       "    <tr>\n",
       "      <th>std</th>\n",
       "      <td>1.056513</td>\n",
       "      <td>1.277122</td>\n",
       "      <td>0.714801</td>\n",
       "    </tr>\n",
       "    <tr>\n",
       "      <th>min</th>\n",
       "      <td>12.080000</td>\n",
       "      <td>15.560000</td>\n",
       "      <td>10.590000</td>\n",
       "    </tr>\n",
       "    <tr>\n",
       "      <th>25%</th>\n",
       "      <td>13.820000</td>\n",
       "      <td>17.590000</td>\n",
       "      <td>11.255000</td>\n",
       "    </tr>\n",
       "    <tr>\n",
       "      <th>...</th>\n",
       "      <th>...</th>\n",
       "      <td>...</td>\n",
       "      <td>...</td>\n",
       "      <td>...</td>\n",
       "    </tr>\n",
       "    <tr>\n",
       "      <th rowspan=\"5\" valign=\"top\">sil_width</th>\n",
       "      <th>min</th>\n",
       "      <td>0.005457</td>\n",
       "      <td>0.029792</td>\n",
       "      <td>0.002713</td>\n",
       "    </tr>\n",
       "    <tr>\n",
       "      <th>25%</th>\n",
       "      <td>0.234095</td>\n",
       "      <td>0.419827</td>\n",
       "      <td>0.314599</td>\n",
       "    </tr>\n",
       "    <tr>\n",
       "      <th>50%</th>\n",
       "      <td>0.371077</td>\n",
       "      <td>0.523482</td>\n",
       "      <td>0.453462</td>\n",
       "    </tr>\n",
       "    <tr>\n",
       "      <th>75%</th>\n",
       "      <td>0.479615</td>\n",
       "      <td>0.574340</td>\n",
       "      <td>0.515146</td>\n",
       "    </tr>\n",
       "    <tr>\n",
       "      <th>max</th>\n",
       "      <td>0.554103</td>\n",
       "      <td>0.639285</td>\n",
       "      <td>0.587277</td>\n",
       "    </tr>\n",
       "  </tbody>\n",
       "</table>\n",
       "<p>64 rows × 3 columns</p>\n",
       "</div>"
      ],
      "text/plain": [
       "Clus_kmeans              0          1          2\n",
       "spending  count  71.000000  67.000000  72.000000\n",
       "          mean   14.437887  18.495373  11.856944\n",
       "          std     1.056513   1.277122   0.714801\n",
       "          min    12.080000  15.560000  10.590000\n",
       "          25%    13.820000  17.590000  11.255000\n",
       "...                    ...        ...        ...\n",
       "sil_width min     0.005457   0.029792   0.002713\n",
       "          25%     0.234095   0.419827   0.314599\n",
       "          50%     0.371077   0.523482   0.453462\n",
       "          75%     0.479615   0.574340   0.515146\n",
       "          max     0.554103   0.639285   0.587277\n",
       "\n",
       "[64 rows x 3 columns]"
      ]
     },
     "execution_count": 29,
     "metadata": {},
     "output_type": "execute_result"
    }
   ],
   "source": [
    "dataprofile=bank_df.groupby('Clus_kmeans').describe().T\n",
    "dataprofile\n"
   ]
  },
  {
   "cell_type": "markdown",
   "metadata": {},
   "source": [
    "#### 1.5 Describe cluster profiles for the clusters defined. Recommend different promotional strategies for different clusters."
   ]
  },
  {
   "cell_type": "code",
   "execution_count": 30,
   "metadata": {},
   "outputs": [
    {
     "name": "stdout",
     "output_type": "stream",
     "text": [
      "Clus_kmeans                                 0          1          2\n",
      "spending                     count  71.000000  67.000000  72.000000\n",
      "                             mean   14.437887  18.495373  11.856944\n",
      "                             std     1.056513   1.277122   0.714801\n",
      "                             min    12.080000  15.560000  10.590000\n",
      "                             25%    13.820000  17.590000  11.255000\n",
      "                             50%    14.430000  18.750000  11.825000\n",
      "                             75%    15.260000  19.145000  12.395000\n",
      "                             max    16.440000  21.180000  13.340000\n",
      "advance_payments             count  71.000000  67.000000  72.000000\n",
      "                             mean   14.337746  16.203433  13.247778\n",
      "                             std     0.525706   0.546439   0.355208\n",
      "                             min    13.150000  14.890000  12.410000\n",
      "                             25%    14.030000  15.855000  12.992500\n",
      "                             50%    14.390000  16.230000  13.250000\n",
      "                             75%    14.760000  16.580000  13.482500\n",
      "                             max    15.270000  17.250000  13.950000\n",
      "probability_of_full_payment  count  71.000000  67.000000  72.000000\n",
      "                             mean    0.881597   0.884210   0.848253\n",
      "                             std     0.015502   0.014917   0.019953\n",
      "                             min     0.852700   0.845200   0.808100\n",
      "                             25%     0.871300   0.874650   0.835000\n",
      "                             50%     0.881900   0.882900   0.848600\n",
      "                             75%     0.893350   0.898050   0.861475\n",
      "                             max     0.918300   0.910800   0.888300\n",
      "current_balance              count  71.000000  67.000000  72.000000\n",
      "                             mean    5.514577   6.175687   5.231750\n",
      "                             std     0.225266   0.237807   0.141795\n",
      "                             min     4.984000   5.718000   4.899000\n",
      "                             25%     5.380000   6.011500   5.139250\n",
      "                             50%     5.541000   6.153000   5.225000\n",
      "                             75%     5.689500   6.328000   5.337250\n",
      "                             max     5.920000   6.675000   5.541000\n",
      "credit_limit                 count  71.000000  67.000000  72.000000\n",
      "                             mean    3.259225   3.697537   2.849542\n",
      "                             std     0.154766   0.166014   0.138689\n",
      "                             min     2.936000   3.387000   2.630000\n",
      "                             25%     3.155000   3.564500   2.738500\n",
      "                             50%     3.258000   3.719000   2.836500\n",
      "                             75%     3.378000   3.808000   2.967000\n",
      "                             max     3.582000   4.033000   3.232000\n",
      "min_payment_amt              count  71.000000  67.000000  72.000000\n",
      "                             mean    2.707341   3.632373   4.742389\n",
      "                             std     1.176440   1.211052   1.354711\n",
      "                             min     0.765100   1.472000   1.502000\n",
      "                             25%     1.951000   2.848000   4.032250\n",
      "                             50%     2.640000   3.619000   4.799000\n",
      "                             75%     3.332000   4.421000   5.463750\n",
      "                             max     6.685000   6.682000   8.456000\n",
      "max_spent_in_single_shopping count  71.000000  67.000000  72.000000\n",
      "                             mean    5.120803   6.041701   5.101722\n",
      "                             std     0.269558   0.229566   0.184012\n",
      "                             min     4.605000   5.484000   4.519000\n",
      "                             25%     4.958500   5.879000   5.001000\n",
      "                             50%     5.132000   6.009000   5.089000\n",
      "                             75%     5.263500   6.192500   5.223500\n",
      "                             max     5.879000   6.550000   5.491000\n",
      "sil_width                    count  71.000000  67.000000  72.000000\n",
      "                             mean    0.339816   0.468772   0.397473\n",
      "                             std     0.165898   0.153712   0.159526\n",
      "                             min     0.005457   0.029792   0.002713\n",
      "                             25%     0.234095   0.419827   0.314599\n",
      "                             50%     0.371077   0.523482   0.453462\n",
      "                             75%     0.479615   0.574340   0.515146\n",
      "                             max     0.554103   0.639285   0.587277\n"
     ]
    }
   ],
   "source": [
    "with pd.option_context('display.max_rows', None, 'display.max_columns', None):  # more options can be specified also\n",
    "    print(dataprofile)"
   ]
  },
  {
   "cell_type": "code",
   "execution_count": 31,
   "metadata": {},
   "outputs": [
    {
     "data": {
      "image/png": "[encoded data removed]",
      "text/plain": [
       "<Figure size 1200x700 with 1 Axes>"
      ]
     },
     "metadata": {},
     "output_type": "display_data"
    }
   ],
   "source": [
    "from sklearn.decomposition import PCA\n",
    "pca_3 = PCA(3)\n",
    "plot_columns = pca_3.fit_transform(bank_df)\n",
    "plt.figure(figsize=(12,7))\n",
    "sns.scatterplot(x=plot_columns[:,1], y=plot_columns[:,0], hue=KMeans(n_clusters=\n",
    "3, random_state=0).fit(bank_df).labels_, palette='bright',legend=False)\n",
    "plt.title('Cluster Plot for 3 Clusters')\n",
    "plt.show()"
   ]
  },
  {
   "cell_type": "markdown",
   "metadata": {},
   "source": [
    "### Problem 2: CART-RF-ANN\n",
    "#### An Insurance firm providing tour insurance is facing higher claim frequency. The management decides to collect data from the past few years. You are assigned the task to make a model which predicts the claim status and provide recommendations to management. Use CART, RF & ANN and compare the models' performances in train and test sets."
   ]
  },
  {
   "cell_type": "markdown",
   "metadata": {},
   "source": [
    "#### 2.1 Read the data, do the necessary initial steps, and exploratory data analysis (Univariate, Bi-variate, and multivariate analysis)."
   ]
  },
  {
   "cell_type": "code",
   "execution_count": 32,
   "metadata": {},
   "outputs": [],
   "source": [
    "insurance_df = pd.read_csv(\"insurance_part2_data-2.csv\")"
   ]
  },
  {
   "cell_type": "code",
   "execution_count": 33,
   "metadata": {},
   "outputs": [
    {
     "data": {
      "text/html": [
       "<div>\n",
       "<style scoped>\n",
       "    .dataframe tbody tr th:only-of-type {\n",
       "        vertical-align: middle;\n",
       "    }\n",
       "\n",
       "    .dataframe tbody tr th {\n",
       "        vertical-align: top;\n",
       "    }\n",
       "\n",
       "    .dataframe thead th {\n",
       "        text-align: right;\n",
       "    }\n",
       "</style>\n",
       "<table border=\"1\" class=\"dataframe\">\n",
       "  <thead>\n",
       "    <tr style=\"text-align: right;\">\n",
       "      <th></th>\n",
       "      <th>Age</th>\n",
       "      <th>Agency_Code</th>\n",
       "      <th>Type</th>\n",
       "      <th>Claimed</th>\n",
       "      <th>Commision</th>\n",
       "      <th>Channel</th>\n",
       "      <th>Duration</th>\n",
       "      <th>Sales</th>\n",
       "      <th>Product Name</th>\n",
       "      <th>Destination</th>\n",
       "    </tr>\n",
       "  </thead>\n",
       "  <tbody>\n",
       "    <tr>\n",
       "      <th>0</th>\n",
       "      <td>48</td>\n",
       "      <td>C2B</td>\n",
       "      <td>Airlines</td>\n",
       "      <td>No</td>\n",
       "      <td>0.70</td>\n",
       "      <td>Online</td>\n",
       "      <td>7</td>\n",
       "      <td>2.51</td>\n",
       "      <td>Customised Plan</td>\n",
       "      <td>ASIA</td>\n",
       "    </tr>\n",
       "    <tr>\n",
       "      <th>1</th>\n",
       "      <td>36</td>\n",
       "      <td>EPX</td>\n",
       "      <td>Travel Agency</td>\n",
       "      <td>No</td>\n",
       "      <td>0.00</td>\n",
       "      <td>Online</td>\n",
       "      <td>34</td>\n",
       "      <td>20.00</td>\n",
       "      <td>Customised Plan</td>\n",
       "      <td>ASIA</td>\n",
       "    </tr>\n",
       "    <tr>\n",
       "      <th>2</th>\n",
       "      <td>39</td>\n",
       "      <td>CWT</td>\n",
       "      <td>Travel Agency</td>\n",
       "      <td>No</td>\n",
       "      <td>5.94</td>\n",
       "      <td>Online</td>\n",
       "      <td>3</td>\n",
       "      <td>9.90</td>\n",
       "      <td>Customised Plan</td>\n",
       "      <td>Americas</td>\n",
       "    </tr>\n",
       "    <tr>\n",
       "      <th>3</th>\n",
       "      <td>36</td>\n",
       "      <td>EPX</td>\n",
       "      <td>Travel Agency</td>\n",
       "      <td>No</td>\n",
       "      <td>0.00</td>\n",
       "      <td>Online</td>\n",
       "      <td>4</td>\n",
       "      <td>26.00</td>\n",
       "      <td>Cancellation Plan</td>\n",
       "      <td>ASIA</td>\n",
       "    </tr>\n",
       "    <tr>\n",
       "      <th>4</th>\n",
       "      <td>33</td>\n",
       "      <td>JZI</td>\n",
       "      <td>Airlines</td>\n",
       "      <td>No</td>\n",
       "      <td>6.30</td>\n",
       "      <td>Online</td>\n",
       "      <td>53</td>\n",
       "      <td>18.00</td>\n",
       "      <td>Bronze Plan</td>\n",
       "      <td>ASIA</td>\n",
       "    </tr>\n",
       "  </tbody>\n",
       "</table>\n",
       "</div>"
      ],
      "text/plain": [
       "   Age Agency_Code           Type Claimed  Commision Channel  Duration  Sales  \\\n",
       "0   48         C2B       Airlines      No       0.70  Online         7   2.51   \n",
       "1   36         EPX  Travel Agency      No       0.00  Online        34  20.00   \n",
       "2   39         CWT  Travel Agency      No       5.94  Online         3   9.90   \n",
       "3   36         EPX  Travel Agency      No       0.00  Online         4  26.00   \n",
       "4   33         JZI       Airlines      No       6.30  Online        53  18.00   \n",
       "\n",
       "        Product Name Destination  \n",
       "0    Customised Plan        ASIA  \n",
       "1    Customised Plan        ASIA  \n",
       "2    Customised Plan    Americas  \n",
       "3  Cancellation Plan        ASIA  \n",
       "4        Bronze Plan        ASIA  "
      ]
     },
     "execution_count": 33,
     "metadata": {},
     "output_type": "execute_result"
    }
   ],
   "source": [
    "insurance_df.head()"
   ]
  },
  {
   "cell_type": "code",
   "execution_count": 34,
   "metadata": {},
   "outputs": [
    {
     "data": {
      "text/html": [
       "<div>\n",
       "<style scoped>\n",
       "    .dataframe tbody tr th:only-of-type {\n",
       "        vertical-align: middle;\n",
       "    }\n",
       "\n",
       "    .dataframe tbody tr th {\n",
       "        vertical-align: top;\n",
       "    }\n",
       "\n",
       "    .dataframe thead th {\n",
       "        text-align: right;\n",
       "    }\n",
       "</style>\n",
       "<table border=\"1\" class=\"dataframe\">\n",
       "  <thead>\n",
       "    <tr style=\"text-align: right;\">\n",
       "      <th></th>\n",
       "      <th>Age</th>\n",
       "      <th>Commision</th>\n",
       "      <th>Duration</th>\n",
       "      <th>Sales</th>\n",
       "    </tr>\n",
       "  </thead>\n",
       "  <tbody>\n",
       "    <tr>\n",
       "      <th>count</th>\n",
       "      <td>3000.000000</td>\n",
       "      <td>3000.000000</td>\n",
       "      <td>3000.000000</td>\n",
       "      <td>3000.000000</td>\n",
       "    </tr>\n",
       "    <tr>\n",
       "      <th>mean</th>\n",
       "      <td>38.091000</td>\n",
       "      <td>14.529203</td>\n",
       "      <td>70.001333</td>\n",
       "      <td>60.249913</td>\n",
       "    </tr>\n",
       "    <tr>\n",
       "      <th>std</th>\n",
       "      <td>10.463518</td>\n",
       "      <td>25.481455</td>\n",
       "      <td>134.053313</td>\n",
       "      <td>70.733954</td>\n",
       "    </tr>\n",
       "    <tr>\n",
       "      <th>min</th>\n",
       "      <td>8.000000</td>\n",
       "      <td>0.000000</td>\n",
       "      <td>-1.000000</td>\n",
       "      <td>0.000000</td>\n",
       "    </tr>\n",
       "    <tr>\n",
       "      <th>25%</th>\n",
       "      <td>32.000000</td>\n",
       "      <td>0.000000</td>\n",
       "      <td>11.000000</td>\n",
       "      <td>20.000000</td>\n",
       "    </tr>\n",
       "    <tr>\n",
       "      <th>50%</th>\n",
       "      <td>36.000000</td>\n",
       "      <td>4.630000</td>\n",
       "      <td>26.500000</td>\n",
       "      <td>33.000000</td>\n",
       "    </tr>\n",
       "    <tr>\n",
       "      <th>75%</th>\n",
       "      <td>42.000000</td>\n",
       "      <td>17.235000</td>\n",
       "      <td>63.000000</td>\n",
       "      <td>69.000000</td>\n",
       "    </tr>\n",
       "    <tr>\n",
       "      <th>max</th>\n",
       "      <td>84.000000</td>\n",
       "      <td>210.210000</td>\n",
       "      <td>4580.000000</td>\n",
       "      <td>539.000000</td>\n",
       "    </tr>\n",
       "  </tbody>\n",
       "</table>\n",
       "</div>"
      ],
      "text/plain": [
       "               Age    Commision     Duration        Sales\n",
       "count  3000.000000  3000.000000  3000.000000  3000.000000\n",
       "mean     38.091000    14.529203    70.001333    60.249913\n",
       "std      10.463518    25.481455   134.053313    70.733954\n",
       "min       8.000000     0.000000    -1.000000     0.000000\n",
       "25%      32.000000     0.000000    11.000000    20.000000\n",
       "50%      36.000000     4.630000    26.500000    33.000000\n",
       "75%      42.000000    17.235000    63.000000    69.000000\n",
       "max      84.000000   210.210000  4580.000000   539.000000"
      ]
     },
     "execution_count": 34,
     "metadata": {},
     "output_type": "execute_result"
    }
   ],
   "source": [
    "insurance_df.describe()"
   ]
  },
  {
   "cell_type": "code",
   "execution_count": 35,
   "metadata": {},
   "outputs": [
    {
     "name": "stdout",
     "output_type": "stream",
     "text": [
      "<class 'pandas.core.frame.DataFrame'>\n",
      "RangeIndex: 3000 entries, 0 to 2999\n",
      "Data columns (total 10 columns):\n",
      " #   Column        Non-Null Count  Dtype  \n",
      "---  ------        --------------  -----  \n",
      " 0   Age           3000 non-null   int64  \n",
      " 1   Agency_Code   3000 non-null   object \n",
      " 2   Type          3000 non-null   object \n",
      " 3   Claimed       3000 non-null   object \n",
      " 4   Commision     3000 non-null   float64\n",
      " 5   Channel       3000 non-null   object \n",
      " 6   Duration      3000 non-null   int64  \n",
      " 7   Sales         3000 non-null   float64\n",
      " 8   Product Name  3000 non-null   object \n",
      " 9   Destination   3000 non-null   object \n",
      "dtypes: float64(2), int64(2), object(6)\n",
      "memory usage: 234.5+ KB\n"
     ]
    }
   ],
   "source": [
    "insurance_df.info()"
   ]
  },
  {
   "cell_type": "code",
   "execution_count": 36,
   "metadata": {},
   "outputs": [
    {
     "data": {
      "application/vnd.jupyter.widget-view+json": {
       "model_id": "92c0d2c8fa04444d97c0fa551febfc8d",
       "version_major": 2,
       "version_minor": 0
      },
      "text/plain": [
       "HBox(children=(HTML(value=''), FloatProgress(value=0.0, layout=Layout(flex='2'), max=11.0), HTML(value='')), l…"
      ]
     },
     "metadata": {},
     "output_type": "display_data"
    },
    {
     "name": "stdout",
     "output_type": "stream",
     "text": [
      "\n"
     ]
    }
   ],
   "source": [
    "insurancereport= sv.analyze(insurance_df)"
   ]
  },
  {
   "cell_type": "code",
   "execution_count": 37,
   "metadata": {},
   "outputs": [
    {
     "name": "stdout",
     "output_type": "stream",
     "text": [
      "Report insurance claim report.html was generated! NOTEBOOK/COLAB USERS: the web browser MAY not pop up, regardless, the report IS saved in your notebook/colab files.\n"
     ]
    }
   ],
   "source": [
    "irh=insurancereport.show_html('insurance claim report.html')\n",
    "irh"
   ]
  },
  {
   "cell_type": "code",
   "execution_count": 38,
   "metadata": {},
   "outputs": [
    {
     "name": "stdout",
     "output_type": "stream",
     "text": [
      "Number of Duplicates  139\n"
     ]
    }
   ],
   "source": [
    "print(\"Number of Duplicates \",insurance_df.duplicated().sum())"
   ]
  },
  {
   "cell_type": "code",
   "execution_count": 39,
   "metadata": {},
   "outputs": [
    {
     "name": "stdout",
     "output_type": "stream",
     "text": [
      "Removing duplicates\n",
      "<class 'pandas.core.frame.DataFrame'>\n",
      "Int64Index: 2861 entries, 0 to 2999\n",
      "Data columns (total 10 columns):\n",
      " #   Column        Non-Null Count  Dtype  \n",
      "---  ------        --------------  -----  \n",
      " 0   Age           2861 non-null   int64  \n",
      " 1   Agency_Code   2861 non-null   object \n",
      " 2   Type          2861 non-null   object \n",
      " 3   Claimed       2861 non-null   object \n",
      " 4   Commision     2861 non-null   float64\n",
      " 5   Channel       2861 non-null   object \n",
      " 6   Duration      2861 non-null   int64  \n",
      " 7   Sales         2861 non-null   float64\n",
      " 8   Product Name  2861 non-null   object \n",
      " 9   Destination   2861 non-null   object \n",
      "dtypes: float64(2), int64(2), object(6)\n",
      "memory usage: 245.9+ KB\n"
     ]
    }
   ],
   "source": [
    "print(\"Removing duplicates\")\n",
    "\n",
    "insurance_df=insurance_df.drop_duplicates( keep='last')\n",
    "\n",
    "insurance_df.info()"
   ]
  },
  {
   "cell_type": "code",
   "execution_count": 40,
   "metadata": {},
   "outputs": [
    {
     "data": {
      "image/png": "[encoded data removed]",
      "text/plain": [
       "<Figure size 600x400 with 1 Axes>"
      ]
     },
     "metadata": {},
     "output_type": "display_data"
    }
   ],
   "source": [
    "boxplot = insurance_df.boxplot()\n"
   ]
  },
  {
   "cell_type": "code",
   "execution_count": 41,
   "metadata": {},
   "outputs": [
    {
     "name": "stdout",
     "output_type": "stream",
     "text": [
      "the number of outliers are  290\n"
     ]
    }
   ],
   "source": [
    "# outlier\n",
    "\n",
    "from scipy import stats\n",
    "numeric_cols = insurance_df.select_dtypes(include=[np.number]).columns\n",
    "\n",
    "z=np.abs(stats.zscore(insurance_df[numeric_cols]))\n",
    "\n",
    "listin= np.where(z>3)\n",
    "\n",
    "outlier = list((int(j) for i in listin for j in i)) \n",
    "print(\"the number of outliers are \", len(outlier) )"
   ]
  },
  {
   "cell_type": "code",
   "execution_count": 42,
   "metadata": {},
   "outputs": [
    {
     "name": "stdout",
     "output_type": "stream",
     "text": [
      "replace outliers\n"
     ]
    },
    {
     "data": {
      "text/html": [
       "<div>\n",
       "<style scoped>\n",
       "    .dataframe tbody tr th:only-of-type {\n",
       "        vertical-align: middle;\n",
       "    }\n",
       "\n",
       "    .dataframe tbody tr th {\n",
       "        vertical-align: top;\n",
       "    }\n",
       "\n",
       "    .dataframe thead th {\n",
       "        text-align: right;\n",
       "    }\n",
       "</style>\n",
       "<table border=\"1\" class=\"dataframe\">\n",
       "  <thead>\n",
       "    <tr style=\"text-align: right;\">\n",
       "      <th></th>\n",
       "      <th>Age</th>\n",
       "      <th>Agency_Code</th>\n",
       "      <th>Type</th>\n",
       "      <th>Claimed</th>\n",
       "      <th>Commision</th>\n",
       "      <th>Channel</th>\n",
       "      <th>Duration</th>\n",
       "      <th>Sales</th>\n",
       "      <th>Product Name</th>\n",
       "      <th>Destination</th>\n",
       "    </tr>\n",
       "  </thead>\n",
       "  <tbody>\n",
       "    <tr>\n",
       "      <th>0</th>\n",
       "      <td>48.0</td>\n",
       "      <td>C2B</td>\n",
       "      <td>Airlines</td>\n",
       "      <td>No</td>\n",
       "      <td>0.70</td>\n",
       "      <td>Online</td>\n",
       "      <td>7.0</td>\n",
       "      <td>2.51</td>\n",
       "      <td>Customised Plan</td>\n",
       "      <td>ASIA</td>\n",
       "    </tr>\n",
       "    <tr>\n",
       "      <th>2</th>\n",
       "      <td>39.0</td>\n",
       "      <td>CWT</td>\n",
       "      <td>Travel Agency</td>\n",
       "      <td>No</td>\n",
       "      <td>5.94</td>\n",
       "      <td>Online</td>\n",
       "      <td>3.0</td>\n",
       "      <td>9.90</td>\n",
       "      <td>Customised Plan</td>\n",
       "      <td>Americas</td>\n",
       "    </tr>\n",
       "    <tr>\n",
       "      <th>3</th>\n",
       "      <td>36.0</td>\n",
       "      <td>EPX</td>\n",
       "      <td>Travel Agency</td>\n",
       "      <td>No</td>\n",
       "      <td>0.00</td>\n",
       "      <td>Online</td>\n",
       "      <td>4.0</td>\n",
       "      <td>26.00</td>\n",
       "      <td>Cancellation Plan</td>\n",
       "      <td>ASIA</td>\n",
       "    </tr>\n",
       "    <tr>\n",
       "      <th>4</th>\n",
       "      <td>33.0</td>\n",
       "      <td>JZI</td>\n",
       "      <td>Airlines</td>\n",
       "      <td>No</td>\n",
       "      <td>6.30</td>\n",
       "      <td>Online</td>\n",
       "      <td>53.0</td>\n",
       "      <td>18.00</td>\n",
       "      <td>Bronze Plan</td>\n",
       "      <td>ASIA</td>\n",
       "    </tr>\n",
       "    <tr>\n",
       "      <th>5</th>\n",
       "      <td>45.0</td>\n",
       "      <td>JZI</td>\n",
       "      <td>Airlines</td>\n",
       "      <td>Yes</td>\n",
       "      <td>15.75</td>\n",
       "      <td>Online</td>\n",
       "      <td>8.0</td>\n",
       "      <td>45.00</td>\n",
       "      <td>Bronze Plan</td>\n",
       "      <td>ASIA</td>\n",
       "    </tr>\n",
       "  </tbody>\n",
       "</table>\n",
       "</div>"
      ],
      "text/plain": [
       "    Age Agency_Code           Type Claimed  Commision Channel  Duration  \\\n",
       "0  48.0         C2B       Airlines      No       0.70  Online       7.0   \n",
       "2  39.0         CWT  Travel Agency      No       5.94  Online       3.0   \n",
       "3  36.0         EPX  Travel Agency      No       0.00  Online       4.0   \n",
       "4  33.0         JZI       Airlines      No       6.30  Online      53.0   \n",
       "5  45.0         JZI       Airlines     Yes      15.75  Online       8.0   \n",
       "\n",
       "   Sales       Product Name Destination  \n",
       "0   2.51    Customised Plan        ASIA  \n",
       "2   9.90    Customised Plan    Americas  \n",
       "3  26.00  Cancellation Plan        ASIA  \n",
       "4  18.00        Bronze Plan        ASIA  \n",
       "5  45.00        Bronze Plan        ASIA  "
      ]
     },
     "execution_count": 42,
     "metadata": {},
     "output_type": "execute_result"
    }
   ],
   "source": [
    "print(\"replace outliers\")\n",
    "\n",
    "def outlier(x):\n",
    "    # taking 5,25,75 percentile of column\n",
    "    q5= np.percentile(x,5)\n",
    "    q25=np.percentile(x,25)\n",
    "    q75=np.percentile(x,75)\n",
    "    dt=np.percentile(x,95)\n",
    "    #calculationg IQR range\n",
    "    IQR=q75-q25\n",
    "    #Calculating minimum threshold\n",
    "    lower_bound=q25-(1.5*IQR)\n",
    "    upper_bound=q75+(1.5*IQR)\n",
    "    #Calculating maximum threshold\n",
    "    return x.apply(lambda y: dt if y > upper_bound else y).apply(lambda y: q5 if y < lower_bound else y)\n",
    "\n",
    "\n",
    "insurance_df[numeric_cols]=insurance_df[numeric_cols].apply(outlier)\n",
    "insurance_df.head()"
   ]
  },
  {
   "cell_type": "code",
   "execution_count": 43,
   "metadata": {},
   "outputs": [
    {
     "data": {
      "image/png": "[encoded data removed]",
      "text/plain": [
       "<Figure size 600x400 with 1 Axes>"
      ]
     },
     "metadata": {},
     "output_type": "display_data"
    }
   ],
   "source": [
    "boxplot = insurance_df.boxplot()"
   ]
  },
  {
   "cell_type": "markdown",
   "metadata": {},
   "source": [
    "#### 2.2 Data Split: Split the data into test and train, build classification model CART, Random Forest, Artificial Neural Network"
   ]
  },
  {
   "cell_type": "code",
   "execution_count": 44,
   "metadata": {},
   "outputs": [],
   "source": [
    "insurance= insurance_df.copy()"
   ]
  },
  {
   "cell_type": "code",
   "execution_count": 45,
   "metadata": {},
   "outputs": [
    {
     "data": {
      "text/html": [
       "<div>\n",
       "<style scoped>\n",
       "    .dataframe tbody tr th:only-of-type {\n",
       "        vertical-align: middle;\n",
       "    }\n",
       "\n",
       "    .dataframe tbody tr th {\n",
       "        vertical-align: top;\n",
       "    }\n",
       "\n",
       "    .dataframe thead th {\n",
       "        text-align: right;\n",
       "    }\n",
       "</style>\n",
       "<table border=\"1\" class=\"dataframe\">\n",
       "  <thead>\n",
       "    <tr style=\"text-align: right;\">\n",
       "      <th></th>\n",
       "      <th>Age</th>\n",
       "      <th>Agency_Code</th>\n",
       "      <th>Type</th>\n",
       "      <th>Claimed</th>\n",
       "      <th>Commision</th>\n",
       "      <th>Channel</th>\n",
       "      <th>Duration</th>\n",
       "      <th>Sales</th>\n",
       "      <th>Product Name</th>\n",
       "      <th>Destination</th>\n",
       "    </tr>\n",
       "  </thead>\n",
       "  <tbody>\n",
       "    <tr>\n",
       "      <th>0</th>\n",
       "      <td>48.0</td>\n",
       "      <td>0</td>\n",
       "      <td>0</td>\n",
       "      <td>0</td>\n",
       "      <td>0.70</td>\n",
       "      <td>1</td>\n",
       "      <td>7.0</td>\n",
       "      <td>2.51</td>\n",
       "      <td>2</td>\n",
       "      <td>0</td>\n",
       "    </tr>\n",
       "    <tr>\n",
       "      <th>2</th>\n",
       "      <td>39.0</td>\n",
       "      <td>1</td>\n",
       "      <td>1</td>\n",
       "      <td>0</td>\n",
       "      <td>5.94</td>\n",
       "      <td>1</td>\n",
       "      <td>3.0</td>\n",
       "      <td>9.90</td>\n",
       "      <td>2</td>\n",
       "      <td>1</td>\n",
       "    </tr>\n",
       "    <tr>\n",
       "      <th>3</th>\n",
       "      <td>36.0</td>\n",
       "      <td>2</td>\n",
       "      <td>1</td>\n",
       "      <td>0</td>\n",
       "      <td>0.00</td>\n",
       "      <td>1</td>\n",
       "      <td>4.0</td>\n",
       "      <td>26.00</td>\n",
       "      <td>1</td>\n",
       "      <td>0</td>\n",
       "    </tr>\n",
       "    <tr>\n",
       "      <th>4</th>\n",
       "      <td>33.0</td>\n",
       "      <td>3</td>\n",
       "      <td>0</td>\n",
       "      <td>0</td>\n",
       "      <td>6.30</td>\n",
       "      <td>1</td>\n",
       "      <td>53.0</td>\n",
       "      <td>18.00</td>\n",
       "      <td>0</td>\n",
       "      <td>0</td>\n",
       "    </tr>\n",
       "    <tr>\n",
       "      <th>5</th>\n",
       "      <td>45.0</td>\n",
       "      <td>3</td>\n",
       "      <td>0</td>\n",
       "      <td>1</td>\n",
       "      <td>15.75</td>\n",
       "      <td>1</td>\n",
       "      <td>8.0</td>\n",
       "      <td>45.00</td>\n",
       "      <td>0</td>\n",
       "      <td>0</td>\n",
       "    </tr>\n",
       "  </tbody>\n",
       "</table>\n",
       "</div>"
      ],
      "text/plain": [
       "    Age  Agency_Code  Type  Claimed  Commision  Channel  Duration  Sales  \\\n",
       "0  48.0            0     0        0       0.70        1       7.0   2.51   \n",
       "2  39.0            1     1        0       5.94        1       3.0   9.90   \n",
       "3  36.0            2     1        0       0.00        1       4.0  26.00   \n",
       "4  33.0            3     0        0       6.30        1      53.0  18.00   \n",
       "5  45.0            3     0        1      15.75        1       8.0  45.00   \n",
       "\n",
       "   Product Name  Destination  \n",
       "0             2            0  \n",
       "2             2            1  \n",
       "3             1            0  \n",
       "4             0            0  \n",
       "5             0            0  "
      ]
     },
     "execution_count": 45,
     "metadata": {},
     "output_type": "execute_result"
    }
   ],
   "source": [
    "for feature in insurance.columns: \n",
    "    if insurance[feature].dtype == 'object':\n",
    "        insurance[feature] = pd.Categorical(insurance[feature]).codes\n",
    "insurance.head()\n"
   ]
  },
  {
   "cell_type": "code",
   "execution_count": 46,
   "metadata": {},
   "outputs": [
    {
     "data": {
      "text/plain": [
       "914"
      ]
     },
     "execution_count": 46,
     "metadata": {},
     "output_type": "execute_result"
    }
   ],
   "source": [
    "insurance['Claimed'].sum()"
   ]
  },
  {
   "cell_type": "code",
   "execution_count": 47,
   "metadata": {},
   "outputs": [
    {
     "data": {
      "text/html": [
       "<div>\n",
       "<style scoped>\n",
       "    .dataframe tbody tr th:only-of-type {\n",
       "        vertical-align: middle;\n",
       "    }\n",
       "\n",
       "    .dataframe tbody tr th {\n",
       "        vertical-align: top;\n",
       "    }\n",
       "\n",
       "    .dataframe thead th {\n",
       "        text-align: right;\n",
       "    }\n",
       "</style>\n",
       "<table border=\"1\" class=\"dataframe\">\n",
       "  <thead>\n",
       "    <tr style=\"text-align: right;\">\n",
       "      <th></th>\n",
       "      <th>Age</th>\n",
       "      <th>Agency_Code</th>\n",
       "      <th>Type</th>\n",
       "      <th>Commision</th>\n",
       "      <th>Channel</th>\n",
       "      <th>Duration</th>\n",
       "      <th>Sales</th>\n",
       "      <th>Product Name</th>\n",
       "      <th>Destination</th>\n",
       "    </tr>\n",
       "  </thead>\n",
       "  <tbody>\n",
       "    <tr>\n",
       "      <th>0</th>\n",
       "      <td>48.0</td>\n",
       "      <td>0</td>\n",
       "      <td>0</td>\n",
       "      <td>0.70</td>\n",
       "      <td>1</td>\n",
       "      <td>7.0</td>\n",
       "      <td>2.51</td>\n",
       "      <td>2</td>\n",
       "      <td>0</td>\n",
       "    </tr>\n",
       "    <tr>\n",
       "      <th>2</th>\n",
       "      <td>39.0</td>\n",
       "      <td>1</td>\n",
       "      <td>1</td>\n",
       "      <td>5.94</td>\n",
       "      <td>1</td>\n",
       "      <td>3.0</td>\n",
       "      <td>9.90</td>\n",
       "      <td>2</td>\n",
       "      <td>1</td>\n",
       "    </tr>\n",
       "    <tr>\n",
       "      <th>3</th>\n",
       "      <td>36.0</td>\n",
       "      <td>2</td>\n",
       "      <td>1</td>\n",
       "      <td>0.00</td>\n",
       "      <td>1</td>\n",
       "      <td>4.0</td>\n",
       "      <td>26.00</td>\n",
       "      <td>1</td>\n",
       "      <td>0</td>\n",
       "    </tr>\n",
       "    <tr>\n",
       "      <th>4</th>\n",
       "      <td>33.0</td>\n",
       "      <td>3</td>\n",
       "      <td>0</td>\n",
       "      <td>6.30</td>\n",
       "      <td>1</td>\n",
       "      <td>53.0</td>\n",
       "      <td>18.00</td>\n",
       "      <td>0</td>\n",
       "      <td>0</td>\n",
       "    </tr>\n",
       "    <tr>\n",
       "      <th>5</th>\n",
       "      <td>45.0</td>\n",
       "      <td>3</td>\n",
       "      <td>0</td>\n",
       "      <td>15.75</td>\n",
       "      <td>1</td>\n",
       "      <td>8.0</td>\n",
       "      <td>45.00</td>\n",
       "      <td>0</td>\n",
       "      <td>0</td>\n",
       "    </tr>\n",
       "  </tbody>\n",
       "</table>\n",
       "</div>"
      ],
      "text/plain": [
       "    Age  Agency_Code  Type  Commision  Channel  Duration  Sales  Product Name  \\\n",
       "0  48.0            0     0       0.70        1       7.0   2.51             2   \n",
       "2  39.0            1     1       5.94        1       3.0   9.90             2   \n",
       "3  36.0            2     1       0.00        1       4.0  26.00             1   \n",
       "4  33.0            3     0       6.30        1      53.0  18.00             0   \n",
       "5  45.0            3     0      15.75        1       8.0  45.00             0   \n",
       "\n",
       "   Destination  \n",
       "0            0  \n",
       "2            1  \n",
       "3            0  \n",
       "4            0  \n",
       "5            0  "
      ]
     },
     "execution_count": 47,
     "metadata": {},
     "output_type": "execute_result"
    }
   ],
   "source": [
    "X = insurance.copy()\n",
    "\n",
    "X =X.drop(\"Claimed\" , axis=1)\n",
    "\n",
    "y = insurance.copy()\n",
    "y = y.pop(\"Claimed\")\n",
    "X.head()\n"
   ]
  },
  {
   "cell_type": "code",
   "execution_count": 48,
   "metadata": {},
   "outputs": [
    {
     "data": {
      "text/plain": [
       "0    0\n",
       "2    0\n",
       "3    0\n",
       "4    0\n",
       "5    1\n",
       "Name: Claimed, dtype: int8"
      ]
     },
     "execution_count": 48,
     "metadata": {},
     "output_type": "execute_result"
    }
   ],
   "source": [
    "y.head()"
   ]
  },
  {
   "cell_type": "code",
   "execution_count": 49,
   "metadata": {},
   "outputs": [],
   "source": [
    "# splitting data into training and test set for independent attributes\n",
    "from sklearn.model_selection import train_test_split\n",
    "\n",
    "X_train, X_test, train_labels, test_labels = train_test_split(X, y, test_size=.30, random_state=1)"
   ]
  },
  {
   "cell_type": "code",
   "execution_count": 50,
   "metadata": {},
   "outputs": [
    {
     "data": {
      "text/html": [
       "<div>\n",
       "<style scoped>\n",
       "    .dataframe tbody tr th:only-of-type {\n",
       "        vertical-align: middle;\n",
       "    }\n",
       "\n",
       "    .dataframe tbody tr th {\n",
       "        vertical-align: top;\n",
       "    }\n",
       "\n",
       "    .dataframe thead th {\n",
       "        text-align: right;\n",
       "    }\n",
       "</style>\n",
       "<table border=\"1\" class=\"dataframe\">\n",
       "  <thead>\n",
       "    <tr style=\"text-align: right;\">\n",
       "      <th></th>\n",
       "      <th>Age</th>\n",
       "      <th>Agency_Code</th>\n",
       "      <th>Type</th>\n",
       "      <th>Commision</th>\n",
       "      <th>Channel</th>\n",
       "      <th>Duration</th>\n",
       "      <th>Sales</th>\n",
       "      <th>Product Name</th>\n",
       "      <th>Destination</th>\n",
       "    </tr>\n",
       "  </thead>\n",
       "  <tbody>\n",
       "    <tr>\n",
       "      <th>1347</th>\n",
       "      <td>21.0</td>\n",
       "      <td>3</td>\n",
       "      <td>0</td>\n",
       "      <td>11.55</td>\n",
       "      <td>1</td>\n",
       "      <td>65.0</td>\n",
       "      <td>33.0</td>\n",
       "      <td>0</td>\n",
       "      <td>0</td>\n",
       "    </tr>\n",
       "    <tr>\n",
       "      <th>2362</th>\n",
       "      <td>35.0</td>\n",
       "      <td>0</td>\n",
       "      <td>0</td>\n",
       "      <td>15.60</td>\n",
       "      <td>1</td>\n",
       "      <td>22.0</td>\n",
       "      <td>39.0</td>\n",
       "      <td>0</td>\n",
       "      <td>0</td>\n",
       "    </tr>\n",
       "    <tr>\n",
       "      <th>947</th>\n",
       "      <td>39.0</td>\n",
       "      <td>0</td>\n",
       "      <td>0</td>\n",
       "      <td>63.21</td>\n",
       "      <td>1</td>\n",
       "      <td>367.0</td>\n",
       "      <td>230.0</td>\n",
       "      <td>4</td>\n",
       "      <td>0</td>\n",
       "    </tr>\n",
       "    <tr>\n",
       "      <th>218</th>\n",
       "      <td>51.0</td>\n",
       "      <td>0</td>\n",
       "      <td>0</td>\n",
       "      <td>63.21</td>\n",
       "      <td>1</td>\n",
       "      <td>367.0</td>\n",
       "      <td>230.0</td>\n",
       "      <td>4</td>\n",
       "      <td>0</td>\n",
       "    </tr>\n",
       "    <tr>\n",
       "      <th>2340</th>\n",
       "      <td>28.0</td>\n",
       "      <td>2</td>\n",
       "      <td>1</td>\n",
       "      <td>0.00</td>\n",
       "      <td>1</td>\n",
       "      <td>3.0</td>\n",
       "      <td>10.0</td>\n",
       "      <td>1</td>\n",
       "      <td>0</td>\n",
       "    </tr>\n",
       "  </tbody>\n",
       "</table>\n",
       "</div>"
      ],
      "text/plain": [
       "       Age  Agency_Code  Type  Commision  Channel  Duration  Sales  \\\n",
       "1347  21.0            3     0      11.55        1      65.0   33.0   \n",
       "2362  35.0            0     0      15.60        1      22.0   39.0   \n",
       "947   39.0            0     0      63.21        1     367.0  230.0   \n",
       "218   51.0            0     0      63.21        1     367.0  230.0   \n",
       "2340  28.0            2     1       0.00        1       3.0   10.0   \n",
       "\n",
       "      Product Name  Destination  \n",
       "1347             0            0  \n",
       "2362             0            0  \n",
       "947              4            0  \n",
       "218              4            0  \n",
       "2340             1            0  "
      ]
     },
     "execution_count": 50,
     "metadata": {},
     "output_type": "execute_result"
    }
   ],
   "source": [
    "X_train.head()"
   ]
  },
  {
   "cell_type": "code",
   "execution_count": 51,
   "metadata": {},
   "outputs": [
    {
     "data": {
      "text/html": [
       "<div>\n",
       "<style scoped>\n",
       "    .dataframe tbody tr th:only-of-type {\n",
       "        vertical-align: middle;\n",
       "    }\n",
       "\n",
       "    .dataframe tbody tr th {\n",
       "        vertical-align: top;\n",
       "    }\n",
       "\n",
       "    .dataframe thead th {\n",
       "        text-align: right;\n",
       "    }\n",
       "</style>\n",
       "<table border=\"1\" class=\"dataframe\">\n",
       "  <thead>\n",
       "    <tr style=\"text-align: right;\">\n",
       "      <th></th>\n",
       "      <th>Age</th>\n",
       "      <th>Agency_Code</th>\n",
       "      <th>Type</th>\n",
       "      <th>Commision</th>\n",
       "      <th>Channel</th>\n",
       "      <th>Duration</th>\n",
       "      <th>Sales</th>\n",
       "      <th>Product Name</th>\n",
       "      <th>Destination</th>\n",
       "    </tr>\n",
       "  </thead>\n",
       "  <tbody>\n",
       "    <tr>\n",
       "      <th>684</th>\n",
       "      <td>19.0</td>\n",
       "      <td>0</td>\n",
       "      <td>0</td>\n",
       "      <td>6.00</td>\n",
       "      <td>1</td>\n",
       "      <td>12.0</td>\n",
       "      <td>15.0</td>\n",
       "      <td>0</td>\n",
       "      <td>0</td>\n",
       "    </tr>\n",
       "    <tr>\n",
       "      <th>231</th>\n",
       "      <td>27.0</td>\n",
       "      <td>1</td>\n",
       "      <td>1</td>\n",
       "      <td>17.82</td>\n",
       "      <td>1</td>\n",
       "      <td>16.0</td>\n",
       "      <td>29.7</td>\n",
       "      <td>2</td>\n",
       "      <td>1</td>\n",
       "    </tr>\n",
       "    <tr>\n",
       "      <th>1729</th>\n",
       "      <td>27.0</td>\n",
       "      <td>0</td>\n",
       "      <td>0</td>\n",
       "      <td>63.21</td>\n",
       "      <td>1</td>\n",
       "      <td>367.0</td>\n",
       "      <td>230.0</td>\n",
       "      <td>4</td>\n",
       "      <td>0</td>\n",
       "    </tr>\n",
       "    <tr>\n",
       "      <th>1005</th>\n",
       "      <td>36.0</td>\n",
       "      <td>2</td>\n",
       "      <td>1</td>\n",
       "      <td>0.00</td>\n",
       "      <td>1</td>\n",
       "      <td>5.0</td>\n",
       "      <td>73.0</td>\n",
       "      <td>1</td>\n",
       "      <td>0</td>\n",
       "    </tr>\n",
       "    <tr>\n",
       "      <th>848</th>\n",
       "      <td>58.0</td>\n",
       "      <td>0</td>\n",
       "      <td>0</td>\n",
       "      <td>5.25</td>\n",
       "      <td>1</td>\n",
       "      <td>51.0</td>\n",
       "      <td>21.0</td>\n",
       "      <td>0</td>\n",
       "      <td>0</td>\n",
       "    </tr>\n",
       "  </tbody>\n",
       "</table>\n",
       "</div>"
      ],
      "text/plain": [
       "       Age  Agency_Code  Type  Commision  Channel  Duration  Sales  \\\n",
       "684   19.0            0     0       6.00        1      12.0   15.0   \n",
       "231   27.0            1     1      17.82        1      16.0   29.7   \n",
       "1729  27.0            0     0      63.21        1     367.0  230.0   \n",
       "1005  36.0            2     1       0.00        1       5.0   73.0   \n",
       "848   58.0            0     0       5.25        1      51.0   21.0   \n",
       "\n",
       "      Product Name  Destination  \n",
       "684              0            0  \n",
       "231              2            1  \n",
       "1729             4            0  \n",
       "1005             1            0  \n",
       "848              0            0  "
      ]
     },
     "execution_count": 51,
     "metadata": {},
     "output_type": "execute_result"
    }
   ],
   "source": [
    "X_test.head()"
   ]
  },
  {
   "cell_type": "code",
   "execution_count": 52,
   "metadata": {},
   "outputs": [
    {
     "data": {
      "text/plain": [
       "1347    0\n",
       "2362    0\n",
       "947     1\n",
       "218     1\n",
       "2340    0\n",
       "Name: Claimed, dtype: int8"
      ]
     },
     "execution_count": 52,
     "metadata": {},
     "output_type": "execute_result"
    }
   ],
   "source": [
    "train_labels.head()"
   ]
  },
  {
   "cell_type": "code",
   "execution_count": 53,
   "metadata": {},
   "outputs": [
    {
     "data": {
      "text/plain": [
       "684     0\n",
       "231     0\n",
       "1729    0\n",
       "1005    0\n",
       "848     1\n",
       "Name: Claimed, dtype: int8"
      ]
     },
     "execution_count": 53,
     "metadata": {},
     "output_type": "execute_result"
    }
   ],
   "source": [
    "test_labels.head()"
   ]
  },
  {
   "cell_type": "markdown",
   "metadata": {},
   "source": [
    "#### Decision Tree Classifier"
   ]
  },
  {
   "cell_type": "code",
   "execution_count": 54,
   "metadata": {},
   "outputs": [
    {
     "data": {
      "text/plain": [
       "DecisionTreeClassifier()"
      ]
     },
     "execution_count": 54,
     "metadata": {},
     "output_type": "execute_result"
    }
   ],
   "source": [
    "dt_model = DecisionTreeClassifier(criterion = 'gini' )\n",
    "dt_model.fit(X_train, train_labels)"
   ]
  },
  {
   "cell_type": "code",
   "execution_count": 55,
   "metadata": {},
   "outputs": [],
   "source": [
    "from sklearn import tree\n",
    "\n",
    "train_char_label = ['No', 'Yes']\n",
    "insurance_Tree_File = open('insurancetree.dot','w')\n",
    "dot_data = tree.export_graphviz(dt_model, out_file=insurance_Tree_File, feature_names = list(X_train), class_names = list(train_char_label))\n",
    "\n",
    "insurance_Tree_File.close()"
   ]
  },
  {
   "cell_type": "code",
   "execution_count": 56,
   "metadata": {},
   "outputs": [],
   "source": [
    "from sklearn.model_selection import GridSearchCV\n",
    "\n",
    "param_grid = {\n",
    "    'max_depth': [2, 3, 4, 5],\n",
    "    'min_samples_leaf': [20, 25, 30],\n",
    "    'min_samples_split': [80, 100, 120]\n",
    "}\n",
    "\n",
    "dt_model = DecisionTreeClassifier()\n",
    "\n",
    "grid_search = GridSearchCV(estimator = dt_model, param_grid = param_grid, cv = 4)"
   ]
  },
  {
   "cell_type": "code",
   "execution_count": 57,
   "metadata": {},
   "outputs": [
    {
     "data": {
      "text/plain": [
       "GridSearchCV(cv=4, estimator=DecisionTreeClassifier(),\n",
       "             param_grid={'max_depth': [2, 3, 4, 5],\n",
       "                         'min_samples_leaf': [20, 25, 30],\n",
       "                         'min_samples_split': [80, 100, 120]})"
      ]
     },
     "execution_count": 57,
     "metadata": {},
     "output_type": "execute_result"
    }
   ],
   "source": [
    "grid_search.fit(X_train, train_labels)"
   ]
  },
  {
   "cell_type": "code",
   "execution_count": 58,
   "metadata": {},
   "outputs": [
    {
     "data": {
      "text/plain": [
       "{'max_depth': 3, 'min_samples_leaf': 20, 'min_samples_split': 100}"
      ]
     },
     "execution_count": 58,
     "metadata": {},
     "output_type": "execute_result"
    }
   ],
   "source": [
    "grid_search.best_params_"
   ]
  },
  {
   "cell_type": "code",
   "execution_count": 59,
   "metadata": {},
   "outputs": [
    {
     "data": {
      "text/plain": [
       "DecisionTreeClassifier(max_depth=3, min_samples_leaf=20, min_samples_split=100)"
      ]
     },
     "execution_count": 59,
     "metadata": {},
     "output_type": "execute_result"
    }
   ],
   "source": [
    "dtbest_grid = grid_search.best_estimator_\n",
    "dtbest_grid"
   ]
  },
  {
   "cell_type": "code",
   "execution_count": 60,
   "metadata": {},
   "outputs": [],
   "source": [
    "train_char_label = ['No', 'Yes']\n",
    "insurance_Tree_File = open('insurancetree.dot','w')\n",
    "dot_data = tree.export_graphviz(dtbest_grid, out_file=insurance_Tree_File, feature_names = list(X_train), class_names = list(train_char_label))\n",
    "\n",
    "insurance_Tree_File.close()"
   ]
  },
  {
   "cell_type": "code",
   "execution_count": 61,
   "metadata": {},
   "outputs": [],
   "source": [
    "dtytrain_predict = dtbest_grid.predict(X_train)\n",
    "dtytest_predict = dtbest_grid.predict(X_test)"
   ]
  },
  {
   "cell_type": "code",
   "execution_count": 62,
   "metadata": {},
   "outputs": [
    {
     "name": "stdout",
     "output_type": "stream",
     "text": [
      "              precision    recall  f1-score   support\n",
      "\n",
      "           0       0.81      0.86      0.84      1347\n",
      "           1       0.67      0.58      0.62       655\n",
      "\n",
      "    accuracy                           0.77      2002\n",
      "   macro avg       0.74      0.72      0.73      2002\n",
      "weighted avg       0.76      0.77      0.77      2002\n",
      "\n"
     ]
    }
   ],
   "source": [
    "print(classification_report(train_labels,dtytrain_predict))"
   ]
  },
  {
   "cell_type": "code",
   "execution_count": 63,
   "metadata": {},
   "outputs": [
    {
     "name": "stdout",
     "output_type": "stream",
     "text": [
      "              precision    recall  f1-score   support\n",
      "\n",
      "           0       0.83      0.84      0.83       600\n",
      "           1       0.62      0.60      0.61       259\n",
      "\n",
      "    accuracy                           0.77       859\n",
      "   macro avg       0.72      0.72      0.72       859\n",
      "weighted avg       0.77      0.77      0.77       859\n",
      "\n"
     ]
    }
   ],
   "source": [
    "print(classification_report(test_labels,dtytest_predict))"
   ]
  },
  {
   "cell_type": "markdown",
   "metadata": {},
   "source": [
    "#### Random Forest Classifier"
   ]
  },
  {
   "cell_type": "code",
   "execution_count": 64,
   "metadata": {},
   "outputs": [],
   "source": [
    "from sklearn.model_selection import GridSearchCV\n",
    "\n",
    "param_grid = {\n",
    "    'max_depth': [5,6,7,8],\n",
    "    'min_samples_leaf': [20, 25,30],\n",
    "    'min_samples_split': [80,100,120],\n",
    "    'n_estimators': [ 101, 201]\n",
    "}\n",
    "\n",
    "rfcl = RandomForestClassifier()\n",
    "\n",
    "grid_search = GridSearchCV(estimator = rfcl, param_grid = param_grid)"
   ]
  },
  {
   "cell_type": "code",
   "execution_count": 65,
   "metadata": {},
   "outputs": [
    {
     "data": {
      "text/plain": [
       "GridSearchCV(estimator=RandomForestClassifier(),\n",
       "             param_grid={'max_depth': [5, 6, 7, 8],\n",
       "                         'min_samples_leaf': [20, 25, 30],\n",
       "                         'min_samples_split': [80, 100, 120],\n",
       "                         'n_estimators': [101, 201]})"
      ]
     },
     "execution_count": 65,
     "metadata": {},
     "output_type": "execute_result"
    }
   ],
   "source": [
    "grid_search.fit(X_train, train_labels)"
   ]
  },
  {
   "cell_type": "code",
   "execution_count": 66,
   "metadata": {},
   "outputs": [
    {
     "data": {
      "text/plain": [
       "{'max_depth': 7,\n",
       " 'min_samples_leaf': 25,\n",
       " 'min_samples_split': 80,\n",
       " 'n_estimators': 101}"
      ]
     },
     "execution_count": 66,
     "metadata": {},
     "output_type": "execute_result"
    }
   ],
   "source": [
    "grid_search.best_params_"
   ]
  },
  {
   "cell_type": "code",
   "execution_count": 67,
   "metadata": {},
   "outputs": [
    {
     "data": {
      "text/plain": [
       "RandomForestClassifier(max_depth=7, min_samples_leaf=25, min_samples_split=80,\n",
       "                       n_estimators=101)"
      ]
     },
     "execution_count": 67,
     "metadata": {},
     "output_type": "execute_result"
    }
   ],
   "source": [
    "rfcbest_grid = grid_search.best_estimator_\n",
    "rfcbest_grid"
   ]
  },
  {
   "cell_type": "code",
   "execution_count": 68,
   "metadata": {},
   "outputs": [],
   "source": [
    "rfcytrain_predict = rfcbest_grid.predict(X_train)\n",
    "rfcytest_predict = rfcbest_grid.predict(X_test)"
   ]
  },
  {
   "cell_type": "code",
   "execution_count": 69,
   "metadata": {},
   "outputs": [
    {
     "name": "stdout",
     "output_type": "stream",
     "text": [
      "              precision    recall  f1-score   support\n",
      "\n",
      "           0       0.82      0.89      0.85      1347\n",
      "           1       0.72      0.60      0.65       655\n",
      "\n",
      "    accuracy                           0.79      2002\n",
      "   macro avg       0.77      0.74      0.75      2002\n",
      "weighted avg       0.79      0.79      0.79      2002\n",
      "\n"
     ]
    }
   ],
   "source": [
    "print(classification_report(train_labels,rfcytrain_predict))"
   ]
  },
  {
   "cell_type": "code",
   "execution_count": 70,
   "metadata": {},
   "outputs": [
    {
     "name": "stdout",
     "output_type": "stream",
     "text": [
      "              precision    recall  f1-score   support\n",
      "\n",
      "           0       0.83      0.85      0.84       600\n",
      "           1       0.63      0.60      0.62       259\n",
      "\n",
      "    accuracy                           0.77       859\n",
      "   macro avg       0.73      0.72      0.73       859\n",
      "weighted avg       0.77      0.77      0.77       859\n",
      "\n"
     ]
    }
   ],
   "source": [
    "print(classification_report(test_labels,rfcytest_predict))"
   ]
  },
  {
   "cell_type": "markdown",
   "metadata": {},
   "source": [
    "#### MLP Classifier (Artificial Neural Network)"
   ]
  },
  {
   "cell_type": "code",
   "execution_count": 71,
   "metadata": {},
   "outputs": [],
   "source": [
    "from sklearn.preprocessing import StandardScaler \n",
    "sc = StandardScaler() \n",
    "X_trains = sc.fit_transform(X_train) \n",
    "X_tests = sc.transform (X_test)"
   ]
  },
  {
   "cell_type": "code",
   "execution_count": 72,
   "metadata": {},
   "outputs": [],
   "source": [
    "param_grid = {\n",
    "    'hidden_layer_sizes': [(100,100,100),(200,200,200),(300,300,300)],\n",
    "    'activation': ['logistic', 'relu'],\n",
    "    'solver': ['sgd', 'adam'],\n",
    "    'tol': [0.1,0.01],\n",
    "    'max_iter' : [10000,5000]\n",
    "}\n",
    "\n",
    "rfcl = MLPClassifier()\n",
    "\n",
    "grid_search = GridSearchCV(estimator = rfcl, param_grid = param_grid, cv = 3)"
   ]
  },
  {
   "cell_type": "code",
   "execution_count": 73,
   "metadata": {},
   "outputs": [
    {
     "data": {
      "text/plain": [
       "GridSearchCV(cv=3, estimator=MLPClassifier(),\n",
       "             param_grid={'activation': ['logistic', 'relu'],\n",
       "                         'hidden_layer_sizes': [(100, 100, 100),\n",
       "                                                (200, 200, 200),\n",
       "                                                (300, 300, 300)],\n",
       "                         'max_iter': [10000, 5000], 'solver': ['sgd', 'adam'],\n",
       "                         'tol': [0.1, 0.01]})"
      ]
     },
     "execution_count": 73,
     "metadata": {},
     "output_type": "execute_result"
    }
   ],
   "source": [
    "grid_search.fit(X_trains, train_labels)"
   ]
  },
  {
   "cell_type": "code",
   "execution_count": 74,
   "metadata": {},
   "outputs": [
    {
     "data": {
      "text/plain": [
       "{'activation': 'relu',\n",
       " 'hidden_layer_sizes': (100, 100, 100),\n",
       " 'max_iter': 5000,\n",
       " 'solver': 'adam',\n",
       " 'tol': 0.1}"
      ]
     },
     "execution_count": 74,
     "metadata": {},
     "output_type": "execute_result"
    }
   ],
   "source": [
    "grid_search.best_params_"
   ]
  },
  {
   "cell_type": "code",
   "execution_count": 75,
   "metadata": {},
   "outputs": [
    {
     "data": {
      "text/plain": [
       "MLPClassifier(hidden_layer_sizes=(100, 100, 100), max_iter=5000, tol=0.1)"
      ]
     },
     "execution_count": 75,
     "metadata": {},
     "output_type": "execute_result"
    }
   ],
   "source": [
    "anbest_grid = grid_search.best_estimator_\n",
    "anbest_grid"
   ]
  },
  {
   "cell_type": "code",
   "execution_count": 76,
   "metadata": {},
   "outputs": [],
   "source": [
    "anytrain_predict = anbest_grid.predict(X_trains)\n",
    "anytest_predict = anbest_grid.predict(X_tests)"
   ]
  },
  {
   "cell_type": "code",
   "execution_count": 77,
   "metadata": {},
   "outputs": [
    {
     "name": "stdout",
     "output_type": "stream",
     "text": [
      "              precision    recall  f1-score   support\n",
      "\n",
      "           0       0.81      0.85      0.83      1347\n",
      "           1       0.67      0.60      0.63       655\n",
      "\n",
      "    accuracy                           0.77      2002\n",
      "   macro avg       0.74      0.73      0.73      2002\n",
      "weighted avg       0.77      0.77      0.77      2002\n",
      "\n"
     ]
    }
   ],
   "source": [
    "print(classification_report(train_labels,anytrain_predict))"
   ]
  },
  {
   "cell_type": "code",
   "execution_count": 78,
   "metadata": {},
   "outputs": [
    {
     "name": "stdout",
     "output_type": "stream",
     "text": [
      "              precision    recall  f1-score   support\n",
      "\n",
      "           0       0.83      0.83      0.83       600\n",
      "           1       0.61      0.62      0.62       259\n",
      "\n",
      "    accuracy                           0.77       859\n",
      "   macro avg       0.72      0.72      0.72       859\n",
      "weighted avg       0.77      0.77      0.77       859\n",
      "\n"
     ]
    }
   ],
   "source": [
    "print(classification_report(test_labels,anytest_predict))"
   ]
  },
  {
   "cell_type": "markdown",
   "metadata": {},
   "source": [
    "#### 2.3 Performance Metrics: Comment and Check the performance of Predictions on Train and Test sets using Accuracy, Confusion Matrix, Plot ROC curve and get ROC_AUC score, classification reports for each model. "
   ]
  },
  {
   "cell_type": "markdown",
   "metadata": {},
   "source": [
    "#### CART decision tree"
   ]
  },
  {
   "cell_type": "code",
   "execution_count": 79,
   "metadata": {},
   "outputs": [
    {
     "data": {
      "text/plain": [
       "0.7707292707292708"
      ]
     },
     "execution_count": 79,
     "metadata": {},
     "output_type": "execute_result"
    }
   ],
   "source": [
    "dtbest_grid.score(X_train,train_labels)\n"
   ]
  },
  {
   "cell_type": "code",
   "execution_count": 80,
   "metadata": {},
   "outputs": [
    {
     "data": {
      "text/plain": [
       "0.7671711292200233"
      ]
     },
     "execution_count": 80,
     "metadata": {},
     "output_type": "execute_result"
    }
   ],
   "source": [
    "dtbest_grid.score(X_test,test_labels)"
   ]
  },
  {
   "cell_type": "code",
   "execution_count": 81,
   "metadata": {},
   "outputs": [
    {
     "data": {
      "text/plain": [
       "array([[1164,  183],\n",
       "       [ 276,  379]], dtype=int64)"
      ]
     },
     "execution_count": 81,
     "metadata": {},
     "output_type": "execute_result"
    }
   ],
   "source": [
    "confusion_matrix(train_labels, dtytrain_predict)"
   ]
  },
  {
   "cell_type": "code",
   "execution_count": 82,
   "metadata": {},
   "outputs": [
    {
     "data": {
      "text/plain": [
       "array([[503,  97],\n",
       "       [103, 156]], dtype=int64)"
      ]
     },
     "execution_count": 82,
     "metadata": {},
     "output_type": "execute_result"
    }
   ],
   "source": [
    "confusion_matrix(test_labels,dtytest_predict)"
   ]
  },
  {
   "cell_type": "code",
   "execution_count": 83,
   "metadata": {},
   "outputs": [
    {
     "name": "stdout",
     "output_type": "stream",
     "text": [
      "Area under Curve is 0.8007.\n"
     ]
    },
    {
     "data": {
      "image/png": "[encoded data removed]",
      "text/plain": [
       "<Figure size 600x400 with 1 Axes>"
      ]
     },
     "metadata": {},
     "output_type": "display_data"
    }
   ],
   "source": [
    "from sklearn.metrics import roc_auc_score\n",
    "from sklearn.metrics import roc_curve\n",
    "insurance_train_fpr, insurance_train_tpr,_= roc_curve(train_labels,dtbest_grid.predict_proba(X_train)[:,1])\n",
    "plt.plot(insurance_train_fpr, insurance_train_tpr,color='green')\n",
    "plt.plot([0, 1], [0, 1], linestyle='--')\n",
    "plt.xlabel('False Positive Rate')\n",
    "plt.ylabel('True Positive Rate')\n",
    "plt.title('ROC')\n",
    "insurance_train_auc=roc_auc_score(train_labels,dtbest_grid.predict_proba(X_train)[:,1])\n",
    "print('Area under Curve is %.4f.' % insurance_train_auc)"
   ]
  },
  {
   "cell_type": "code",
   "execution_count": 84,
   "metadata": {},
   "outputs": [
    {
     "name": "stdout",
     "output_type": "stream",
     "text": [
      "Area under Curve is 0.7869.\n"
     ]
    },
    {
     "data": {
      "image/png": "[encoded data removed]",
      "text/plain": [
       "<Figure size 600x400 with 1 Axes>"
      ]
     },
     "metadata": {},
     "output_type": "display_data"
    }
   ],
   "source": [
    "insurance_test_fpr, insurance_test_tpr,_=roc_curve(test_labels,dtbest_grid.predict_proba(X_test)[:,1])\n",
    "plt.plot(insurance_test_fpr, insurance_test_tpr,color='green')\n",
    "plt.plot([0, 1], [0, 1], linestyle='--')\n",
    "plt.xlabel('False Positive Rate')\n",
    "plt.ylabel('True Positive Rate')\n",
    "plt.title('ROC')\n",
    "insurance_test_auc=roc_auc_score(test_labels,dtbest_grid.predict_proba(X_test)[:,1])\n",
    "print('Area under Curve is %.4f.' % insurance_test_auc)"
   ]
  },
  {
   "cell_type": "markdown",
   "metadata": {},
   "source": [
    "#### Random Forest Classifier"
   ]
  },
  {
   "cell_type": "code",
   "execution_count": 85,
   "metadata": {},
   "outputs": [
    {
     "data": {
      "text/plain": [
       "0.7922077922077922"
      ]
     },
     "execution_count": 85,
     "metadata": {},
     "output_type": "execute_result"
    }
   ],
   "source": [
    "rfcbest_grid.score(X_train,train_labels)"
   ]
  },
  {
   "cell_type": "code",
   "execution_count": 86,
   "metadata": {},
   "outputs": [
    {
     "data": {
      "text/plain": [
       "0.7729918509895227"
      ]
     },
     "execution_count": 86,
     "metadata": {},
     "output_type": "execute_result"
    }
   ],
   "source": [
    "rfcbest_grid.score(X_test,test_labels)"
   ]
  },
  {
   "cell_type": "code",
   "execution_count": 87,
   "metadata": {},
   "outputs": [
    {
     "data": {
      "text/plain": [
       "array([[1196,  151],\n",
       "       [ 265,  390]], dtype=int64)"
      ]
     },
     "execution_count": 87,
     "metadata": {},
     "output_type": "execute_result"
    }
   ],
   "source": [
    "confusion_matrix(train_labels, rfcytrain_predict)"
   ]
  },
  {
   "cell_type": "code",
   "execution_count": 88,
   "metadata": {},
   "outputs": [
    {
     "data": {
      "text/plain": [
       "array([[508,  92],\n",
       "       [103, 156]], dtype=int64)"
      ]
     },
     "execution_count": 88,
     "metadata": {},
     "output_type": "execute_result"
    }
   ],
   "source": [
    "confusion_matrix(test_labels,rfcytest_predict)"
   ]
  },
  {
   "cell_type": "code",
   "execution_count": 89,
   "metadata": {},
   "outputs": [
    {
     "name": "stdout",
     "output_type": "stream",
     "text": [
      "Area under Curve is 0.8359.\n"
     ]
    },
    {
     "data": {
      "image/png": "[encoded data removed]",
      "text/plain": [
       "<Figure size 600x400 with 1 Axes>"
      ]
     },
     "metadata": {},
     "output_type": "display_data"
    }
   ],
   "source": [
    "rf_train_fpr, rf_train_tpr,_=roc_curve(train_labels,rfcbest_grid.predict_proba(X_train)[:,1])\n",
    "plt.plot(rf_train_fpr,rf_train_tpr,color='green')\n",
    "plt.plot([0, 1], [0, 1], linestyle='--')\n",
    "plt.xlabel('False Positive Rate')\n",
    "plt.ylabel('True Positive Rate')\n",
    "plt.title('ROC')\n",
    "rf_train_auc=roc_auc_score(train_labels,rfcbest_grid.predict_proba(X_train)[:,1])\n",
    "print('Area under Curve is %.4f.' % rf_train_auc)\n"
   ]
  },
  {
   "cell_type": "code",
   "execution_count": 90,
   "metadata": {},
   "outputs": [
    {
     "name": "stdout",
     "output_type": "stream",
     "text": [
      "Area under Curve is 0.8013.\n"
     ]
    },
    {
     "data": {
      "image/png": "[encoded data removed]",
      "text/plain": [
       "<Figure size 600x400 with 1 Axes>"
      ]
     },
     "metadata": {},
     "output_type": "display_data"
    }
   ],
   "source": [
    "rf_test_fpr, rf_test_tpr,_=roc_curve(test_labels,rfcbest_grid.predict_proba(X_test)[:,1])\n",
    "plt.plot(rf_test_fpr,rf_test_tpr,color='green')\n",
    "plt.plot([0, 1], [0, 1], linestyle='--')\n",
    "plt.xlabel('False Positive Rate')\n",
    "plt.ylabel('True Positive Rate')\n",
    "plt.title('ROC')\n",
    "rf_test_auc=roc_auc_score(test_labels,rfcbest_grid.predict_proba(X_test)[:,1])\n",
    "print('Area under Curve is %.4f.' % rf_test_auc)"
   ]
  },
  {
   "cell_type": "markdown",
   "metadata": {},
   "source": [
    "#### MLP Classifier (Artificial Neural Network)"
   ]
  },
  {
   "cell_type": "code",
   "execution_count": 91,
   "metadata": {},
   "outputs": [
    {
     "data": {
      "text/plain": [
       "0.7707292707292708"
      ]
     },
     "execution_count": 91,
     "metadata": {},
     "output_type": "execute_result"
    }
   ],
   "source": [
    "anbest_grid.score(X_trains,train_labels)"
   ]
  },
  {
   "cell_type": "code",
   "execution_count": 92,
   "metadata": {},
   "outputs": [
    {
     "data": {
      "text/plain": [
       "0.7671711292200233"
      ]
     },
     "execution_count": 92,
     "metadata": {},
     "output_type": "execute_result"
    }
   ],
   "source": [
    "anbest_grid.score(X_tests,test_labels)"
   ]
  },
  {
   "cell_type": "code",
   "execution_count": 93,
   "metadata": {},
   "outputs": [
    {
     "data": {
      "text/plain": [
       "array([[1151,  196],\n",
       "       [ 263,  392]], dtype=int64)"
      ]
     },
     "execution_count": 93,
     "metadata": {},
     "output_type": "execute_result"
    }
   ],
   "source": [
    "confusion_matrix(train_labels, anytrain_predict)"
   ]
  },
  {
   "cell_type": "code",
   "execution_count": 94,
   "metadata": {},
   "outputs": [
    {
     "data": {
      "text/plain": [
       "array([[499, 101],\n",
       "       [ 99, 160]], dtype=int64)"
      ]
     },
     "execution_count": 94,
     "metadata": {},
     "output_type": "execute_result"
    }
   ],
   "source": [
    "confusion_matrix(test_labels,anytest_predict)"
   ]
  },
  {
   "cell_type": "code",
   "execution_count": 95,
   "metadata": {},
   "outputs": [
    {
     "name": "stdout",
     "output_type": "stream",
     "text": [
      "Area under Curve is 0.8082.\n"
     ]
    },
    {
     "data": {
      "image/png": "[encoded data removed]",
      "text/plain": [
       "<Figure size 600x400 with 1 Axes>"
      ]
     },
     "metadata": {},
     "output_type": "display_data"
    }
   ],
   "source": [
    "nn_train_fpr, nn_train_tpr,_=roc_curve(train_labels,anbest_grid.predict_proba(X_trains)[:,1])\n",
    "plt.plot(nn_train_fpr,nn_train_tpr,color='black')\n",
    "plt.plot([0, 1], [0, 1], linestyle='--')\n",
    "plt.xlabel('False Positive Rate')\n",
    "plt.ylabel('True Positive Rate')\n",
    "plt.title('ROC')\n",
    "nn_train_auc=roc_auc_score(train_labels,anbest_grid.predict_proba(X_trains)[:,1])\n",
    "print('Area under Curve is %.4f.' % nn_train_auc)"
   ]
  },
  {
   "cell_type": "code",
   "execution_count": 96,
   "metadata": {},
   "outputs": [
    {
     "name": "stdout",
     "output_type": "stream",
     "text": [
      "Area under Curve is 0.7903.\n"
     ]
    },
    {
     "data": {
      "image/png": "[encoded data removed]",
      "text/plain": [
       "<Figure size 600x400 with 1 Axes>"
      ]
     },
     "metadata": {},
     "output_type": "display_data"
    }
   ],
   "source": [
    "nn_test_fpr, nn_test_tpr,_=roc_curve(test_labels,anbest_grid.predict_proba(X_tests)[:,1])\n",
    "plt.plot(nn_test_fpr,nn_test_tpr,color='black')\n",
    "plt.plot([0, 1], [0, 1], linestyle='--')\n",
    "plt.xlabel('False Positive Rate')\n",
    "plt.ylabel('True Positive Rate')\n",
    "plt.title('ROC')\n",
    "nn_test_auc=roc_auc_score(test_labels,anbest_grid.predict_proba(X_tests)[:,1])\n",
    "print('Area under Curve is %.4f.' %nn_test_auc)"
   ]
  },
  {
   "cell_type": "markdown",
   "metadata": {},
   "source": [
    "#### 2.4 Final Model: Compare all the models and write an inference which model is best/optimized."
   ]
  },
  {
   "cell_type": "markdown",
   "metadata": {},
   "source": [
    "#### DECISION TREE"
   ]
  },
  {
   "cell_type": "code",
   "execution_count": 97,
   "metadata": {},
   "outputs": [
    {
     "name": "stdout",
     "output_type": "stream",
     "text": [
      "              precision    recall  f1-score   support\n",
      "\n",
      "           0       0.81      0.86      0.84      1347\n",
      "           1       0.67      0.58      0.62       655\n",
      "\n",
      "    accuracy                           0.77      2002\n",
      "   macro avg       0.74      0.72      0.73      2002\n",
      "weighted avg       0.76      0.77      0.77      2002\n",
      "\n"
     ]
    }
   ],
   "source": [
    "print(classification_report(train_labels,dtytrain_predict))"
   ]
  },
  {
   "cell_type": "code",
   "execution_count": 98,
   "metadata": {},
   "outputs": [
    {
     "name": "stdout",
     "output_type": "stream",
     "text": [
      "              precision    recall  f1-score   support\n",
      "\n",
      "           0       0.83      0.84      0.83       600\n",
      "           1       0.62      0.60      0.61       259\n",
      "\n",
      "    accuracy                           0.77       859\n",
      "   macro avg       0.72      0.72      0.72       859\n",
      "weighted avg       0.77      0.77      0.77       859\n",
      "\n"
     ]
    }
   ],
   "source": [
    "print(classification_report(test_labels,dtytest_predict))"
   ]
  },
  {
   "cell_type": "markdown",
   "metadata": {},
   "source": [
    "#### Random forest"
   ]
  },
  {
   "cell_type": "code",
   "execution_count": 99,
   "metadata": {},
   "outputs": [
    {
     "name": "stdout",
     "output_type": "stream",
     "text": [
      "              precision    recall  f1-score   support\n",
      "\n",
      "           0       0.82      0.89      0.85      1347\n",
      "           1       0.72      0.60      0.65       655\n",
      "\n",
      "    accuracy                           0.79      2002\n",
      "   macro avg       0.77      0.74      0.75      2002\n",
      "weighted avg       0.79      0.79      0.79      2002\n",
      "\n"
     ]
    }
   ],
   "source": [
    "print(classification_report(train_labels,rfcytrain_predict))"
   ]
  },
  {
   "cell_type": "code",
   "execution_count": 100,
   "metadata": {},
   "outputs": [
    {
     "name": "stdout",
     "output_type": "stream",
     "text": [
      "              precision    recall  f1-score   support\n",
      "\n",
      "           0       0.83      0.85      0.84       600\n",
      "           1       0.63      0.60      0.62       259\n",
      "\n",
      "    accuracy                           0.77       859\n",
      "   macro avg       0.73      0.72      0.73       859\n",
      "weighted avg       0.77      0.77      0.77       859\n",
      "\n"
     ]
    }
   ],
   "source": [
    "print(classification_report(test_labels,rfcytest_predict))"
   ]
  },
  {
   "cell_type": "markdown",
   "metadata": {},
   "source": [
    "#### ANN"
   ]
  },
  {
   "cell_type": "code",
   "execution_count": 101,
   "metadata": {},
   "outputs": [
    {
     "name": "stdout",
     "output_type": "stream",
     "text": [
      "              precision    recall  f1-score   support\n",
      "\n",
      "           0       0.81      0.85      0.83      1347\n",
      "           1       0.67      0.60      0.63       655\n",
      "\n",
      "    accuracy                           0.77      2002\n",
      "   macro avg       0.74      0.73      0.73      2002\n",
      "weighted avg       0.77      0.77      0.77      2002\n",
      "\n"
     ]
    }
   ],
   "source": [
    "print(classification_report(train_labels,anytrain_predict))"
   ]
  },
  {
   "cell_type": "code",
   "execution_count": 102,
   "metadata": {},
   "outputs": [
    {
     "name": "stdout",
     "output_type": "stream",
     "text": [
      "              precision    recall  f1-score   support\n",
      "\n",
      "           0       0.83      0.83      0.83       600\n",
      "           1       0.61      0.62      0.62       259\n",
      "\n",
      "    accuracy                           0.77       859\n",
      "   macro avg       0.72      0.72      0.72       859\n",
      "weighted avg       0.77      0.77      0.77       859\n",
      "\n"
     ]
    }
   ],
   "source": [
    "print(classification_report(test_labels,anytest_predict))"
   ]
  },
  {
   "cell_type": "markdown",
   "metadata": {},
   "source": [
    "#### ANN (Artificial Neural Network) IS BEST"
   ]
  },
  {
   "cell_type": "code",
   "execution_count": 106,
   "metadata": {},
   "outputs": [
    {
     "data": {
      "text/html": [
       "<div>\n",
       "<style scoped>\n",
       "    .dataframe tbody tr th:only-of-type {\n",
       "        vertical-align: middle;\n",
       "    }\n",
       "\n",
       "    .dataframe tbody tr th {\n",
       "        vertical-align: top;\n",
       "    }\n",
       "\n",
       "    .dataframe thead th {\n",
       "        text-align: right;\n",
       "    }\n",
       "</style>\n",
       "<table border=\"1\" class=\"dataframe\">\n",
       "  <thead>\n",
       "    <tr style=\"text-align: right;\">\n",
       "      <th></th>\n",
       "      <th>Cart Train</th>\n",
       "      <th>Cart Test</th>\n",
       "      <th>Random Forest Train</th>\n",
       "      <th>Random Forest Test</th>\n",
       "      <th>Neural Network Train</th>\n",
       "      <th>Neural Network Test</th>\n",
       "    </tr>\n",
       "  </thead>\n",
       "  <tbody>\n",
       "    <tr>\n",
       "      <th>Accuracy</th>\n",
       "      <td>0.77</td>\n",
       "      <td>0.77</td>\n",
       "      <td>0.79</td>\n",
       "      <td>0.77</td>\n",
       "      <td>0.77</td>\n",
       "      <td>0.76</td>\n",
       "    </tr>\n",
       "    <tr>\n",
       "      <th>AUC</th>\n",
       "      <td>0.80</td>\n",
       "      <td>0.78</td>\n",
       "      <td>0.84</td>\n",
       "      <td>0.80</td>\n",
       "      <td>0.81</td>\n",
       "      <td>0.79</td>\n",
       "    </tr>\n",
       "    <tr>\n",
       "      <th>Recall</th>\n",
       "      <td>0.58</td>\n",
       "      <td>0.60</td>\n",
       "      <td>0.60</td>\n",
       "      <td>0.60</td>\n",
       "      <td>0.60</td>\n",
       "      <td>0.62</td>\n",
       "    </tr>\n",
       "    <tr>\n",
       "      <th>Precision</th>\n",
       "      <td>0.67</td>\n",
       "      <td>0.62</td>\n",
       "      <td>0.72</td>\n",
       "      <td>0.63</td>\n",
       "      <td>0.67</td>\n",
       "      <td>0.61</td>\n",
       "    </tr>\n",
       "    <tr>\n",
       "      <th>F1 Score</th>\n",
       "      <td>0.62</td>\n",
       "      <td>0.61</td>\n",
       "      <td>0.65</td>\n",
       "      <td>0.62</td>\n",
       "      <td>0.63</td>\n",
       "      <td>0.62</td>\n",
       "    </tr>\n",
       "  </tbody>\n",
       "</table>\n",
       "</div>"
      ],
      "text/plain": [
       "           Cart Train  Cart Test  Random Forest Train  Random Forest Test  \\\n",
       "Accuracy         0.77       0.77                 0.79                0.77   \n",
       "AUC              0.80       0.78                 0.84                0.80   \n",
       "Recall           0.58       0.60                 0.60                0.60   \n",
       "Precision        0.67       0.62                 0.72                0.63   \n",
       "F1 Score         0.62       0.61                 0.65                0.62   \n",
       "\n",
       "           Neural Network Train  Neural Network Test  \n",
       "Accuracy                   0.77                 0.76  \n",
       "AUC                        0.81                 0.79  \n",
       "Recall                     0.60                 0.62  \n",
       "Precision                  0.67                 0.61  \n",
       "F1 Score                   0.63                 0.62  "
      ]
     },
     "execution_count": 106,
     "metadata": {},
     "output_type": "execute_result"
    }
   ],
   "source": [
    "## Comparison\n",
    "data = {'Cart Train':[0.77,0.80,0.58,0.67,0.62],\n",
    "        'Cart Test':[0.77,0.78,0.60,0.62,0.61],\n",
    "       'Random Forest Train':[0.79,0.84,0.60,0.72,0.65],\n",
    "       'Random Forest Test':[0.77,0.80,0.60,0.63,0.62],\n",
    "       'Neural Network Train':[0.77,0.81,0.60,0.67,0.63],\n",
    "       'Neural Network Test':[0.76,0.79,0.62,0.61,0.62]}\n",
    "  \n",
    "df = pd.DataFrame(data, index =['Accuracy',\n",
    "                                'AUC',\n",
    "                                'Recall',\n",
    "                                'Precision',\n",
    "                                'F1 Score'])\n",
    "df"
   ]
  },
  {
   "cell_type": "markdown",
   "metadata": {},
   "source": [
    "#### Comparing AUC"
   ]
  },
  {
   "cell_type": "code",
   "execution_count": 104,
   "metadata": {},
   "outputs": [
    {
     "data": {
      "text/plain": [
       "<matplotlib.legend.Legend at 0x1b9221c2e50>"
      ]
     },
     "execution_count": 104,
     "metadata": {},
     "output_type": "execute_result"
    },
    {
     "data": {
      "image/png": "[encoded data removed]",
      "text/plain": [
       "<Figure size 600x400 with 1 Axes>"
      ]
     },
     "metadata": {},
     "output_type": "display_data"
    }
   ],
   "source": [
    "plt.plot([0, 1], [0, 1], linestyle='--')\n",
    "plt.plot(insurance_train_fpr, insurance_train_tpr,color='red',label=\"CART\")\n",
    "plt.plot(rf_train_fpr,rf_train_tpr,color='green',label=\"RF\")\n",
    "plt.plot(nn_train_fpr,nn_train_tpr,color='black',label=\"NN\")\n",
    "plt.xlabel('False Positive Rate')\n",
    "plt.ylabel('True Positive Rate')\n",
    "plt.title('ROC')\n",
    "plt.legend(bbox_to_anchor=(0., 1.02, 1., .102), loc='lower right')"
   ]
  },
  {
   "cell_type": "code",
   "execution_count": 105,
   "metadata": {},
   "outputs": [
    {
     "data": {
      "text/plain": [
       "<matplotlib.legend.Legend at 0x1b922221640>"
      ]
     },
     "execution_count": 105,
     "metadata": {},
     "output_type": "execute_result"
    },
    {
     "data": {
      "image/png": "[encoded data removed]",
      "text/plain": [
       "<Figure size 600x400 with 1 Axes>"
      ]
     },
     "metadata": {},
     "output_type": "display_data"
    }
   ],
   "source": [
    "plt.plot([0, 1], [0, 1], linestyle='--')\n",
    "plt.plot(insurance_test_fpr,insurance_test_tpr,color='red',label=\"CART\")\n",
    "plt.plot(rf_test_fpr,rf_test_tpr,color='green',label=\"RF\")\n",
    "plt.plot(nn_test_fpr,nn_test_tpr,color='black',label=\"NN\")\n",
    "plt.xlabel('False Positive Rate')\n",
    "plt.ylabel('True Positive Rate')\n",
    "plt.title('ROC')\n",
    "plt.legend(bbox_to_anchor=(0., 1.02, 1., .102), loc='lower right')"
   ]
  },
  {
   "cell_type": "code",
   "execution_count": null,
   "metadata": {},
   "outputs": [],
   "source": []
  }
 ],
 "metadata": {
  "kernelspec": {
   "display_name": "Python 3",
   "language": "python",
   "name": "python3"
  },
  "language_info": {
   "codemirror_mode": {
    "name": "ipython",
    "version": 3
   },
   "file_extension": ".py",
   "mimetype": "text/x-python",
   "name": "python",
   "nbconvert_exporter": "python",
   "pygments_lexer": "ipython3",
   "version": "3.8.5"
  }
 },
 "nbformat": 4,
 "nbformat_minor": 4
}
